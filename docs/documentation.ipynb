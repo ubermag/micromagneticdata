{
 "cells": [
  {
   "cell_type": "markdown",
   "metadata": {
    "editable": true,
    "slideshow": {
     "slide_type": ""
    },
    "tags": []
   },
   "source": [
    "# Analysing simulation results\n",
    "\n",
    "With `micromagneticdata` we can analyse simulation results created with `oommfc`. This notebook summarises the available functionality."
   ]
  },
  {
   "cell_type": "code",
   "execution_count": 1,
   "metadata": {},
   "outputs": [],
   "source": [
    "import os\n",
    "\n",
    "import micromagneticdata as md"
   ]
  },
  {
   "cell_type": "markdown",
   "metadata": {},
   "source": [
    "We have a set of example simulations stored in the test directory of `micromagneticdata` that we use to demonstrate its functionality."
   ]
  },
  {
   "cell_type": "code",
   "execution_count": 2,
   "metadata": {},
   "outputs": [],
   "source": [
    "dirname = os.path.join(\"..\", \"micromagneticdata\", \"tests\", \"test_sample\")"
   ]
  },
  {
   "cell_type": "markdown",
   "metadata": {},
   "source": [
    "## `Data`\n",
    "First, we creata a `Data` object. We need to pass the name of the `micromagneticmodel.System` that we used to run the simulation and optionally an additional path to the base directory."
   ]
  },
  {
   "cell_type": "code",
   "execution_count": 3,
   "metadata": {},
   "outputs": [],
   "source": [
    "data = md.Data(name=\"rectangle\", dirname=dirname)"
   ]
  },
  {
   "cell_type": "markdown",
   "metadata": {},
   "source": [
    "The `Data` object contains all simulation runs of the `System`. These are called drives."
   ]
  },
  {
   "cell_type": "code",
   "execution_count": 4,
   "metadata": {},
   "outputs": [
    {
     "data": {
      "text/plain": [
       "7"
      ]
     },
     "execution_count": 4,
     "metadata": {},
     "output_type": "execute_result"
    }
   ],
   "source": [
    "data.n"
   ]
  },
  {
   "cell_type": "code",
   "execution_count": 5,
   "metadata": {
    "editable": true,
    "slideshow": {
     "slide_type": ""
    },
    "tags": []
   },
   "outputs": [
    {
     "data": {
      "text/html": [
       "<div>\n",
       "<style scoped>\n",
       "    .dataframe tbody tr th:only-of-type {\n",
       "        vertical-align: middle;\n",
       "    }\n",
       "\n",
       "    .dataframe tbody tr th {\n",
       "        vertical-align: top;\n",
       "    }\n",
       "\n",
       "    .dataframe thead th {\n",
       "        text-align: right;\n",
       "    }\n",
       "</style>\n",
       "<table border=\"1\" class=\"dataframe\">\n",
       "  <thead>\n",
       "    <tr style=\"text-align: right;\">\n",
       "      <th></th>\n",
       "      <th>drive_number</th>\n",
       "      <th>date</th>\n",
       "      <th>time</th>\n",
       "      <th>driver</th>\n",
       "      <th>t</th>\n",
       "      <th>n</th>\n",
       "      <th>n_threads</th>\n",
       "    </tr>\n",
       "  </thead>\n",
       "  <tbody>\n",
       "    <tr>\n",
       "      <th>0</th>\n",
       "      <td>0</td>\n",
       "      <td>2023-11-07</td>\n",
       "      <td>09:47:23</td>\n",
       "      <td>TimeDriver</td>\n",
       "      <td>2.500000e-11</td>\n",
       "      <td>25.0</td>\n",
       "      <td>NaN</td>\n",
       "    </tr>\n",
       "    <tr>\n",
       "      <th>1</th>\n",
       "      <td>1</td>\n",
       "      <td>2023-11-07</td>\n",
       "      <td>09:47:24</td>\n",
       "      <td>TimeDriver</td>\n",
       "      <td>1.500000e-11</td>\n",
       "      <td>15.0</td>\n",
       "      <td>NaN</td>\n",
       "    </tr>\n",
       "    <tr>\n",
       "      <th>2</th>\n",
       "      <td>2</td>\n",
       "      <td>2023-11-07</td>\n",
       "      <td>09:47:24</td>\n",
       "      <td>TimeDriver</td>\n",
       "      <td>5.000000e-10</td>\n",
       "      <td>250.0</td>\n",
       "      <td>NaN</td>\n",
       "    </tr>\n",
       "    <tr>\n",
       "      <th>3</th>\n",
       "      <td>3</td>\n",
       "      <td>2023-11-07</td>\n",
       "      <td>09:47:25</td>\n",
       "      <td>RelaxDriver</td>\n",
       "      <td>NaN</td>\n",
       "      <td>NaN</td>\n",
       "      <td>NaN</td>\n",
       "    </tr>\n",
       "    <tr>\n",
       "      <th>4</th>\n",
       "      <td>4</td>\n",
       "      <td>2023-11-07</td>\n",
       "      <td>09:47:26</td>\n",
       "      <td>MinDriver</td>\n",
       "      <td>NaN</td>\n",
       "      <td>NaN</td>\n",
       "      <td>NaN</td>\n",
       "    </tr>\n",
       "    <tr>\n",
       "      <th>5</th>\n",
       "      <td>5</td>\n",
       "      <td>2023-11-07</td>\n",
       "      <td>09:47:26</td>\n",
       "      <td>TimeDriver</td>\n",
       "      <td>5.000000e-12</td>\n",
       "      <td>5.0</td>\n",
       "      <td>NaN</td>\n",
       "    </tr>\n",
       "    <tr>\n",
       "      <th>6</th>\n",
       "      <td>6</td>\n",
       "      <td>2023-11-07</td>\n",
       "      <td>09:47:26</td>\n",
       "      <td>MinDriver</td>\n",
       "      <td>NaN</td>\n",
       "      <td>NaN</td>\n",
       "      <td>NaN</td>\n",
       "    </tr>\n",
       "  </tbody>\n",
       "</table>\n",
       "</div>"
      ],
      "text/plain": [
       "   drive_number        date      time       driver             t      n  \\\n",
       "0             0  2023-11-07  09:47:23   TimeDriver  2.500000e-11   25.0   \n",
       "1             1  2023-11-07  09:47:24   TimeDriver  1.500000e-11   15.0   \n",
       "2             2  2023-11-07  09:47:24   TimeDriver  5.000000e-10  250.0   \n",
       "3             3  2023-11-07  09:47:25  RelaxDriver           NaN    NaN   \n",
       "4             4  2023-11-07  09:47:26    MinDriver           NaN    NaN   \n",
       "5             5  2023-11-07  09:47:26   TimeDriver  5.000000e-12    5.0   \n",
       "6             6  2023-11-07  09:47:26    MinDriver           NaN    NaN   \n",
       "\n",
       "   n_threads  \n",
       "0        NaN  \n",
       "1        NaN  \n",
       "2        NaN  \n",
       "3        NaN  \n",
       "4        NaN  \n",
       "5        NaN  \n",
       "6        NaN  "
      ]
     },
     "execution_count": 5,
     "metadata": {},
     "output_type": "execute_result"
    }
   ],
   "source": [
    "data.info"
   ]
  },
  {
   "cell_type": "markdown",
   "metadata": {},
   "source": [
    "## `Drive`\n",
    "To access one `Drive` we can index the `Data` object."
   ]
  },
  {
   "cell_type": "code",
   "execution_count": 6,
   "metadata": {},
   "outputs": [],
   "source": [
    "drive = data[6]"
   ]
  },
  {
   "cell_type": "markdown",
   "metadata": {},
   "source": [
    "The `Drive` object has a number of properties containing information about the drive."
   ]
  },
  {
   "cell_type": "code",
   "execution_count": 7,
   "metadata": {},
   "outputs": [
    {
     "data": {
      "text/plain": [
       "14"
      ]
     },
     "execution_count": 7,
     "metadata": {},
     "output_type": "execute_result"
    }
   ],
   "source": [
    "drive.n"
   ]
  },
  {
   "cell_type": "code",
   "execution_count": 8,
   "metadata": {},
   "outputs": [
    {
     "data": {
      "text/plain": [
       "{'drive_number': 6,\n",
       " 'date': '2023-11-07',\n",
       " 'time': '09:47:26',\n",
       " 'driver': 'MinDriver',\n",
       " 'n_threads': None}"
      ]
     },
     "execution_count": 8,
     "metadata": {},
     "output_type": "execute_result"
    }
   ],
   "source": [
    "drive.info"
   ]
  },
  {
   "cell_type": "code",
   "execution_count": 9,
   "metadata": {},
   "outputs": [],
   "source": [
    "drive = data[6]"
   ]
  },
  {
   "cell_type": "code",
   "execution_count": 10,
   "metadata": {},
   "outputs": [
    {
     "data": {
      "text/plain": [
       "'iteration'"
      ]
     },
     "execution_count": 10,
     "metadata": {},
     "output_type": "execute_result"
    }
   ],
   "source": [
    "drive.x"
   ]
  },
  {
   "cell_type": "code",
   "execution_count": 11,
   "metadata": {},
   "outputs": [
    {
     "data": {
      "text/plain": [
       "{'drive_number': 6,\n",
       " 'date': '2023-11-07',\n",
       " 'time': '09:47:26',\n",
       " 'driver': 'MinDriver',\n",
       " 'n_threads': None}"
      ]
     },
     "execution_count": 11,
     "metadata": {},
     "output_type": "execute_result"
    }
   ],
   "source": [
    "drive.info"
   ]
  },
  {
   "cell_type": "code",
   "execution_count": 12,
   "metadata": {},
   "outputs": [
    {
     "name": "stdout",
     "output_type": "stream",
     "text": [
      "# MIF 2.2\n",
      "\n",
      "SetOptions {\n",
      "  basename system_name\n",
      "  scalar_output_format %.12g\n",
      "  scalar_field_output_format {binary 8}\n",
      "  vector_field_output_format {binary 8}\n",
      "}\n",
      "\n",
      "# BoxAtlas for total_atlas\n",
      "Specify Oxs_BoxAtlas:total_atlas {\n",
      "  xrange { -5e-08 5e-08 }\n",
      "  yrange { -2.5e-08 2.5e-08 }\n",
      "  zrange { 0.0 2e-08 }\n",
      "  name total\n",
      "}\n",
      "\n",
      "# BoxAtlas for entire_atlas\n",
      "Specify Oxs_BoxAtlas:entire_atlas {\n",
      "  xrange { -5e-08 5e-08 }\n",
      "  yrange { -2.5e-08 2.5e-08 }\n",
      "  zrange { 0.0 2e-08 }\n",
      "  name entire\n",
      "}\n",
      "\n",
      "# MultiAtlas\n",
      "Specify Oxs_MultiAtlas:main_atlas {\n",
      "  atlas :total_atlas\n",
      "  atlas :entire_atlas\n",
      "  xrange { -5e-08 5e-08 }\n",
      "  yrange { -2.5e-08 2.5e-08 }\n",
      "  zrange { 0.0 2e-08 }\n",
      "}\n",
      "\n",
      "# RectangularMesh\n",
      "Specify Oxs_RectangularMesh:mesh {\n",
      "  cellsize { 5e-09 5e-09 5e-09 }\n",
      "  atlas :main_atlas\n",
      "}\n",
      "\n",
      "# UniformExchange\n",
      "Specify Oxs_UniformExchange:exchange {\n",
      "  A 1.3e-11\n",
      "}\n",
      "\n",
      "# FixedZeeman\n",
      "Specify Oxs_FixedZeeman:zeeman {\n",
      "  field {0.0 0.0 1000000.0}\n",
      "}\n",
      "\n",
      "# m0 file\n",
      "Specify Oxs_FileVectorField:m0 {\n",
      "  file m0.omf\n",
      "  atlas :main_atlas\n",
      "}\n",
      "\n",
      "# m0_norm\n",
      "Specify Oxs_VecMagScalarField:m0_norm {\n",
      "    field :m0\n",
      "}\n",
      "\n",
      "# CGEvolver\n",
      "Specify Oxs_CGEvolve:evolver {\n",
      "}\n",
      "\n",
      "# MinDriver\n",
      "Specify Oxs_MinDriver {\n",
      "  evolver :evolver\n",
      "  mesh :mesh\n",
      "  Ms :m0_norm\n",
      "  m0 :m0\n",
      "  stopping_mxHxm 0.1\n",
      "}\n",
      "\n",
      "Destination table mmArchive\n",
      "Destination mags mmArchive\n",
      "\n",
      "Schedule DataTable table Step 1\n",
      "Schedule Oxs_MinDriver::Magnetization mags Step 1\n"
     ]
    }
   ],
   "source": [
    "print(drive.calculator_script)"
   ]
  },
  {
   "cell_type": "markdown",
   "metadata": {},
   "source": [
    "The initial magnetisation can be obtained with `m0`. It returns a `discretisedfield.Field` object."
   ]
  },
  {
   "cell_type": "code",
   "execution_count": 13,
   "metadata": {},
   "outputs": [
    {
     "data": {
      "text/html": [
       "<strong>Field</strong>\n",
       "<ul>\n",
       "  \n",
       "  <li><strong>Mesh</strong>\n",
       "<ul>\n",
       "  <li><strong>Region</strong>\n",
       "<ul>\n",
       "  <li>pmin = [-5e-08, -2.5e-08, 0.0]</li>\n",
       "  <li>pmax = [5e-08, 2.5e-08, 2e-08]</li>\n",
       "  <li>dims = ['x', 'y', 'z']</li>\n",
       "  <li>units = ['m', 'm', 'm']</li>\n",
       "</ul></li>\n",
       "  <li>n = [20, 10, 4]</li>\n",
       "  <li>subregions:\n",
       "    <ul>\n",
       "      <li><strong>Region</strong> <i>total</i>\n",
       "<ul>\n",
       "  <li>pmin = [-5e-08, -2.5e-08, 0.0]</li>\n",
       "  <li>pmax = [5e-08, 2.5e-08, 2e-08]</li>\n",
       "  <li>dims = ['x', 'y', 'z']</li>\n",
       "  <li>units = ['m', 'm', 'm']</li>\n",
       "</ul></li>\n",
       "      </ul></li>\n",
       "  </ul></li>\n",
       "  <li>nvdim = 3</li>\n",
       "  <li>vdims:\n",
       "      <ul><li>x</li>\n",
       "        <li>y</li>\n",
       "        <li>z</li>\n",
       "        </ul>\n",
       "    </li>\n",
       "  <li>unit = None</li>\n",
       "  </ul>"
      ],
      "text/plain": [
       "Field(Mesh(Region(pmin=[-5e-08, -2.5e-08, 0.0], pmax=[5e-08, 2.5e-08, 2e-08], dims=['x', 'y', 'z'], units=['m', 'm', 'm']), n=[20, 10, 4], subregions: (Region`total`(pmin=[-5e-08, -2.5e-08, 0.0], pmax=[5e-08, 2.5e-08, 2e-08], dims=['x', 'y', 'z'], units=['m', 'm', 'm']))), nvdim=3, vdims: (x, y, z), unit=None)"
      ]
     },
     "execution_count": 13,
     "metadata": {},
     "output_type": "execute_result"
    }
   ],
   "source": [
    "drive.m0"
   ]
  },
  {
   "cell_type": "markdown",
   "metadata": {},
   "source": [
    "Scalar data of the drive can be accessed via the `table` property that returns a `ubermagtable.Table` object."
   ]
  },
  {
   "cell_type": "code",
   "execution_count": 14,
   "metadata": {},
   "outputs": [
    {
     "data": {
      "image/png": "[encoded data removed]",
      "text/plain": [
       "<Figure size 800x600 with 1 Axes>"
      ]
     },
     "metadata": {},
     "output_type": "display_data"
    }
   ],
   "source": [
    "drive.table.mpl(y=[\"mx\", \"my\", \"mz\"])"
   ]
  },
  {
   "cell_type": "code",
   "execution_count": 15,
   "metadata": {},
   "outputs": [
    {
     "data": {
      "text/plain": [
       "14"
      ]
     },
     "execution_count": 15,
     "metadata": {},
     "output_type": "execute_result"
    }
   ],
   "source": [
    "drive.n"
   ]
  },
  {
   "cell_type": "markdown",
   "metadata": {},
   "source": [
    "We can access the magnetisation at a single step or iterate over the drive."
   ]
  },
  {
   "cell_type": "code",
   "execution_count": 16,
   "metadata": {},
   "outputs": [
    {
     "data": {
      "text/html": [
       "<strong>Field</strong>\n",
       "<ul>\n",
       "  \n",
       "  <li><strong>Mesh</strong>\n",
       "<ul>\n",
       "  <li><strong>Region</strong>\n",
       "<ul>\n",
       "  <li>pmin = [-5e-08, -2.5e-08, 0.0]</li>\n",
       "  <li>pmax = [5e-08, 2.5e-08, 2e-08]</li>\n",
       "  <li>dims = ['x', 'y', 'z']</li>\n",
       "  <li>units = ['m', 'm', 'm']</li>\n",
       "</ul></li>\n",
       "  <li>n = [20, 10, 4]</li>\n",
       "  <li>subregions:\n",
       "    <ul>\n",
       "      <li><strong>Region</strong> <i>total</i>\n",
       "<ul>\n",
       "  <li>pmin = [-5e-08, -2.5e-08, 0.0]</li>\n",
       "  <li>pmax = [5e-08, 2.5e-08, 2e-08]</li>\n",
       "  <li>dims = ['x', 'y', 'z']</li>\n",
       "  <li>units = ['m', 'm', 'm']</li>\n",
       "</ul></li>\n",
       "      </ul></li>\n",
       "  </ul></li>\n",
       "  <li>nvdim = 3</li>\n",
       "  <li>vdims:\n",
       "      <ul><li>x</li>\n",
       "        <li>y</li>\n",
       "        <li>z</li>\n",
       "        </ul>\n",
       "    </li>\n",
       "  <li>unit = A/m</li>\n",
       "  </ul>"
      ],
      "text/plain": [
       "Field(Mesh(Region(pmin=[-5e-08, -2.5e-08, 0.0], pmax=[5e-08, 2.5e-08, 2e-08], dims=['x', 'y', 'z'], units=['m', 'm', 'm']), n=[20, 10, 4], subregions: (Region`total`(pmin=[-5e-08, -2.5e-08, 0.0], pmax=[5e-08, 2.5e-08, 2e-08], dims=['x', 'y', 'z'], units=['m', 'm', 'm']))), nvdim=3, vdims: (x, y, z), unit=A/m)"
      ]
     },
     "execution_count": 16,
     "metadata": {},
     "output_type": "execute_result"
    }
   ],
   "source": [
    "drive[0]"
   ]
  },
  {
   "cell_type": "code",
   "execution_count": 17,
   "metadata": {},
   "outputs": [
    {
     "data": {
      "text/plain": [
       "[Field(Mesh(Region(pmin=[-5e-08, -2.5e-08, 0.0], pmax=[5e-08, 2.5e-08, 2e-08], dims=['x', 'y', 'z'], units=['m', 'm', 'm']), n=[20, 10, 4], subregions: (Region`total`(pmin=[-5e-08, -2.5e-08, 0.0], pmax=[5e-08, 2.5e-08, 2e-08], dims=['x', 'y', 'z'], units=['m', 'm', 'm']))), nvdim=3, vdims: (x, y, z), unit=A/m),\n",
       " Field(Mesh(Region(pmin=[-5e-08, -2.5e-08, 0.0], pmax=[5e-08, 2.5e-08, 2e-08], dims=['x', 'y', 'z'], units=['m', 'm', 'm']), n=[20, 10, 4], subregions: (Region`total`(pmin=[-5e-08, -2.5e-08, 0.0], pmax=[5e-08, 2.5e-08, 2e-08], dims=['x', 'y', 'z'], units=['m', 'm', 'm']))), nvdim=3, vdims: (x, y, z), unit=A/m),\n",
       " Field(Mesh(Region(pmin=[-5e-08, -2.5e-08, 0.0], pmax=[5e-08, 2.5e-08, 2e-08], dims=['x', 'y', 'z'], units=['m', 'm', 'm']), n=[20, 10, 4], subregions: (Region`total`(pmin=[-5e-08, -2.5e-08, 0.0], pmax=[5e-08, 2.5e-08, 2e-08], dims=['x', 'y', 'z'], units=['m', 'm', 'm']))), nvdim=3, vdims: (x, y, z), unit=A/m),\n",
       " Field(Mesh(Region(pmin=[-5e-08, -2.5e-08, 0.0], pmax=[5e-08, 2.5e-08, 2e-08], dims=['x', 'y', 'z'], units=['m', 'm', 'm']), n=[20, 10, 4], subregions: (Region`total`(pmin=[-5e-08, -2.5e-08, 0.0], pmax=[5e-08, 2.5e-08, 2e-08], dims=['x', 'y', 'z'], units=['m', 'm', 'm']))), nvdim=3, vdims: (x, y, z), unit=A/m),\n",
       " Field(Mesh(Region(pmin=[-5e-08, -2.5e-08, 0.0], pmax=[5e-08, 2.5e-08, 2e-08], dims=['x', 'y', 'z'], units=['m', 'm', 'm']), n=[20, 10, 4], subregions: (Region`total`(pmin=[-5e-08, -2.5e-08, 0.0], pmax=[5e-08, 2.5e-08, 2e-08], dims=['x', 'y', 'z'], units=['m', 'm', 'm']))), nvdim=3, vdims: (x, y, z), unit=A/m),\n",
       " Field(Mesh(Region(pmin=[-5e-08, -2.5e-08, 0.0], pmax=[5e-08, 2.5e-08, 2e-08], dims=['x', 'y', 'z'], units=['m', 'm', 'm']), n=[20, 10, 4], subregions: (Region`total`(pmin=[-5e-08, -2.5e-08, 0.0], pmax=[5e-08, 2.5e-08, 2e-08], dims=['x', 'y', 'z'], units=['m', 'm', 'm']))), nvdim=3, vdims: (x, y, z), unit=A/m),\n",
       " Field(Mesh(Region(pmin=[-5e-08, -2.5e-08, 0.0], pmax=[5e-08, 2.5e-08, 2e-08], dims=['x', 'y', 'z'], units=['m', 'm', 'm']), n=[20, 10, 4], subregions: (Region`total`(pmin=[-5e-08, -2.5e-08, 0.0], pmax=[5e-08, 2.5e-08, 2e-08], dims=['x', 'y', 'z'], units=['m', 'm', 'm']))), nvdim=3, vdims: (x, y, z), unit=A/m),\n",
       " Field(Mesh(Region(pmin=[-5e-08, -2.5e-08, 0.0], pmax=[5e-08, 2.5e-08, 2e-08], dims=['x', 'y', 'z'], units=['m', 'm', 'm']), n=[20, 10, 4], subregions: (Region`total`(pmin=[-5e-08, -2.5e-08, 0.0], pmax=[5e-08, 2.5e-08, 2e-08], dims=['x', 'y', 'z'], units=['m', 'm', 'm']))), nvdim=3, vdims: (x, y, z), unit=A/m),\n",
       " Field(Mesh(Region(pmin=[-5e-08, -2.5e-08, 0.0], pmax=[5e-08, 2.5e-08, 2e-08], dims=['x', 'y', 'z'], units=['m', 'm', 'm']), n=[20, 10, 4], subregions: (Region`total`(pmin=[-5e-08, -2.5e-08, 0.0], pmax=[5e-08, 2.5e-08, 2e-08], dims=['x', 'y', 'z'], units=['m', 'm', 'm']))), nvdim=3, vdims: (x, y, z), unit=A/m),\n",
       " Field(Mesh(Region(pmin=[-5e-08, -2.5e-08, 0.0], pmax=[5e-08, 2.5e-08, 2e-08], dims=['x', 'y', 'z'], units=['m', 'm', 'm']), n=[20, 10, 4], subregions: (Region`total`(pmin=[-5e-08, -2.5e-08, 0.0], pmax=[5e-08, 2.5e-08, 2e-08], dims=['x', 'y', 'z'], units=['m', 'm', 'm']))), nvdim=3, vdims: (x, y, z), unit=A/m),\n",
       " Field(Mesh(Region(pmin=[-5e-08, -2.5e-08, 0.0], pmax=[5e-08, 2.5e-08, 2e-08], dims=['x', 'y', 'z'], units=['m', 'm', 'm']), n=[20, 10, 4], subregions: (Region`total`(pmin=[-5e-08, -2.5e-08, 0.0], pmax=[5e-08, 2.5e-08, 2e-08], dims=['x', 'y', 'z'], units=['m', 'm', 'm']))), nvdim=3, vdims: (x, y, z), unit=A/m),\n",
       " Field(Mesh(Region(pmin=[-5e-08, -2.5e-08, 0.0], pmax=[5e-08, 2.5e-08, 2e-08], dims=['x', 'y', 'z'], units=['m', 'm', 'm']), n=[20, 10, 4], subregions: (Region`total`(pmin=[-5e-08, -2.5e-08, 0.0], pmax=[5e-08, 2.5e-08, 2e-08], dims=['x', 'y', 'z'], units=['m', 'm', 'm']))), nvdim=3, vdims: (x, y, z), unit=A/m),\n",
       " Field(Mesh(Region(pmin=[-5e-08, -2.5e-08, 0.0], pmax=[5e-08, 2.5e-08, 2e-08], dims=['x', 'y', 'z'], units=['m', 'm', 'm']), n=[20, 10, 4], subregions: (Region`total`(pmin=[-5e-08, -2.5e-08, 0.0], pmax=[5e-08, 2.5e-08, 2e-08], dims=['x', 'y', 'z'], units=['m', 'm', 'm']))), nvdim=3, vdims: (x, y, z), unit=A/m),\n",
       " Field(Mesh(Region(pmin=[-5e-08, -2.5e-08, 0.0], pmax=[5e-08, 2.5e-08, 2e-08], dims=['x', 'y', 'z'], units=['m', 'm', 'm']), n=[20, 10, 4], subregions: (Region`total`(pmin=[-5e-08, -2.5e-08, 0.0], pmax=[5e-08, 2.5e-08, 2e-08], dims=['x', 'y', 'z'], units=['m', 'm', 'm']))), nvdim=3, vdims: (x, y, z), unit=A/m)]"
      ]
     },
     "execution_count": 17,
     "metadata": {},
     "output_type": "execute_result"
    }
   ],
   "source": [
    "list(drive)"
   ]
  },
  {
   "cell_type": "markdown",
   "metadata": {},
   "source": [
    "We can also select a parts of the data and get a new drive, e.g. every second of the first 10 elements."
   ]
  },
  {
   "cell_type": "code",
   "execution_count": 18,
   "metadata": {
    "tags": [
     "nbval-ignore-output"
    ]
   },
   "outputs": [
    {
     "data": {
      "text/plain": [
       "OOMMFDrive(name='rectangle', number=6, dirname='../micromagneticdata/tests/test_sample', x='iteration')"
      ]
     },
     "execution_count": 18,
     "metadata": {},
     "output_type": "execute_result"
    }
   ],
   "source": [
    "drive_selection = drive[:10:2]\n",
    "drive_selection"
   ]
  },
  {
   "cell_type": "code",
   "execution_count": 19,
   "metadata": {},
   "outputs": [
    {
     "data": {
      "text/plain": [
       "5"
      ]
     },
     "execution_count": 19,
     "metadata": {},
     "output_type": "execute_result"
    }
   ],
   "source": [
    "drive_selection.n"
   ]
  },
  {
   "cell_type": "markdown",
   "metadata": {},
   "source": [
    "It is possible to convert all magnetisation files into vtk for visualisation e.g. in Paraview."
   ]
  },
  {
   "cell_type": "code",
   "execution_count": 20,
   "metadata": {},
   "outputs": [],
   "source": [
    "# drive.ovf2vtk()"
   ]
  },
  {
   "cell_type": "markdown",
   "metadata": {},
   "source": [
    "We can convert a drive into an `xarray.DataArray`. An additional dimension is added depending on the type of drive."
   ]
  },
  {
   "cell_type": "code",
   "execution_count": 21,
   "metadata": {
    "tags": [
     "nbval-ignore-output"
    ]
   },
   "outputs": [
    {
     "data": {
      "text/html": [
       "<div><svg style=\"position: absolute; width: 0; height: 0; overflow: hidden\">\n",
       "<defs>\n",
       "<symbol id=\"icon-database\" viewBox=\"0 0 32 32\">\n",
       "<path d=\"M16 0c-8.837 0-16 2.239-16 5v4c0 2.761 7.163 5 16 5s16-2.239 16-5v-4c0-2.761-7.163-5-16-5z\"></path>\n",
       "<path d=\"M16 17c-8.837 0-16-2.239-16-5v6c0 2.761 7.163 5 16 5s16-2.239 16-5v-6c0 2.761-7.163 5-16 5z\"></path>\n",
       "<path d=\"M16 26c-8.837 0-16-2.239-16-5v6c0 2.761 7.163 5 16 5s16-2.239 16-5v-6c0 2.761-7.163 5-16 5z\"></path>\n",
       "</symbol>\n",
       "<symbol id=\"icon-file-text2\" viewBox=\"0 0 32 32\">\n",
       "<path d=\"M28.681 7.159c-0.694-0.947-1.662-2.053-2.724-3.116s-2.169-2.030-3.116-2.724c-1.612-1.182-2.393-1.319-2.841-1.319h-15.5c-1.378 0-2.5 1.121-2.5 2.5v27c0 1.378 1.122 2.5 2.5 2.5h23c1.378 0 2.5-1.122 2.5-2.5v-19.5c0-0.448-0.137-1.23-1.319-2.841zM24.543 5.457c0.959 0.959 1.712 1.825 2.268 2.543h-4.811v-4.811c0.718 0.556 1.584 1.309 2.543 2.268zM28 29.5c0 0.271-0.229 0.5-0.5 0.5h-23c-0.271 0-0.5-0.229-0.5-0.5v-27c0-0.271 0.229-0.5 0.5-0.5 0 0 15.499-0 15.5 0v7c0 0.552 0.448 1 1 1h7v19.5z\"></path>\n",
       "<path d=\"M23 26h-14c-0.552 0-1-0.448-1-1s0.448-1 1-1h14c0.552 0 1 0.448 1 1s-0.448 1-1 1z\"></path>\n",
       "<path d=\"M23 22h-14c-0.552 0-1-0.448-1-1s0.448-1 1-1h14c0.552 0 1 0.448 1 1s-0.448 1-1 1z\"></path>\n",
       "<path d=\"M23 18h-14c-0.552 0-1-0.448-1-1s0.448-1 1-1h14c0.552 0 1 0.448 1 1s-0.448 1-1 1z\"></path>\n",
       "</symbol>\n",
       "</defs>\n",
       "</svg>\n",
       "<style>/* CSS stylesheet for displaying xarray objects in jupyterlab.\n",
       " *\n",
       " */\n",
       "\n",
       ":root {\n",
       "  --xr-font-color0: var(--jp-content-font-color0, rgba(0, 0, 0, 1));\n",
       "  --xr-font-color2: var(--jp-content-font-color2, rgba(0, 0, 0, 0.54));\n",
       "  --xr-font-color3: var(--jp-content-font-color3, rgba(0, 0, 0, 0.38));\n",
       "  --xr-border-color: var(--jp-border-color2, #e0e0e0);\n",
       "  --xr-disabled-color: var(--jp-layout-color3, #bdbdbd);\n",
       "  --xr-background-color: var(--jp-layout-color0, white);\n",
       "  --xr-background-color-row-even: var(--jp-layout-color1, white);\n",
       "  --xr-background-color-row-odd: var(--jp-layout-color2, #eeeeee);\n",
       "}\n",
       "\n",
       "html[theme=dark],\n",
       "body[data-theme=dark],\n",
       "body.vscode-dark {\n",
       "  --xr-font-color0: rgba(255, 255, 255, 1);\n",
       "  --xr-font-color2: rgba(255, 255, 255, 0.54);\n",
       "  --xr-font-color3: rgba(255, 255, 255, 0.38);\n",
       "  --xr-border-color: #1F1F1F;\n",
       "  --xr-disabled-color: #515151;\n",
       "  --xr-background-color: #111111;\n",
       "  --xr-background-color-row-even: #111111;\n",
       "  --xr-background-color-row-odd: #313131;\n",
       "}\n",
       "\n",
       ".xr-wrap {\n",
       "  display: block !important;\n",
       "  min-width: 300px;\n",
       "  max-width: 700px;\n",
       "}\n",
       "\n",
       ".xr-text-repr-fallback {\n",
       "  /* fallback to plain text repr when CSS is not injected (untrusted notebook) */\n",
       "  display: none;\n",
       "}\n",
       "\n",
       ".xr-header {\n",
       "  padding-top: 6px;\n",
       "  padding-bottom: 6px;\n",
       "  margin-bottom: 4px;\n",
       "  border-bottom: solid 1px var(--xr-border-color);\n",
       "}\n",
       "\n",
       ".xr-header > div,\n",
       ".xr-header > ul {\n",
       "  display: inline;\n",
       "  margin-top: 0;\n",
       "  margin-bottom: 0;\n",
       "}\n",
       "\n",
       ".xr-obj-type,\n",
       ".xr-array-name {\n",
       "  margin-left: 2px;\n",
       "  margin-right: 10px;\n",
       "}\n",
       "\n",
       ".xr-obj-type {\n",
       "  color: var(--xr-font-color2);\n",
       "}\n",
       "\n",
       ".xr-sections {\n",
       "  padding-left: 0 !important;\n",
       "  display: grid;\n",
       "  grid-template-columns: 150px auto auto 1fr 20px 20px;\n",
       "}\n",
       "\n",
       ".xr-section-item {\n",
       "  display: contents;\n",
       "}\n",
       "\n",
       ".xr-section-item input {\n",
       "  display: none;\n",
       "}\n",
       "\n",
       ".xr-section-item input + label {\n",
       "  color: var(--xr-disabled-color);\n",
       "}\n",
       "\n",
       ".xr-section-item input:enabled + label {\n",
       "  cursor: pointer;\n",
       "  color: var(--xr-font-color2);\n",
       "}\n",
       "\n",
       ".xr-section-item input:enabled + label:hover {\n",
       "  color: var(--xr-font-color0);\n",
       "}\n",
       "\n",
       ".xr-section-summary {\n",
       "  grid-column: 1;\n",
       "  color: var(--xr-font-color2);\n",
       "  font-weight: 500;\n",
       "}\n",
       "\n",
       ".xr-section-summary > span {\n",
       "  display: inline-block;\n",
       "  padding-left: 0.5em;\n",
       "}\n",
       "\n",
       ".xr-section-summary-in:disabled + label {\n",
       "  color: var(--xr-font-color2);\n",
       "}\n",
       "\n",
       ".xr-section-summary-in + label:before {\n",
       "  display: inline-block;\n",
       "  content: '►';\n",
       "  font-size: 11px;\n",
       "  width: 15px;\n",
       "  text-align: center;\n",
       "}\n",
       "\n",
       ".xr-section-summary-in:disabled + label:before {\n",
       "  color: var(--xr-disabled-color);\n",
       "}\n",
       "\n",
       ".xr-section-summary-in:checked + label:before {\n",
       "  content: '▼';\n",
       "}\n",
       "\n",
       ".xr-section-summary-in:checked + label > span {\n",
       "  display: none;\n",
       "}\n",
       "\n",
       ".xr-section-summary,\n",
       ".xr-section-inline-details {\n",
       "  padding-top: 4px;\n",
       "  padding-bottom: 4px;\n",
       "}\n",
       "\n",
       ".xr-section-inline-details {\n",
       "  grid-column: 2 / -1;\n",
       "}\n",
       "\n",
       ".xr-section-details {\n",
       "  display: none;\n",
       "  grid-column: 1 / -1;\n",
       "  margin-bottom: 5px;\n",
       "}\n",
       "\n",
       ".xr-section-summary-in:checked ~ .xr-section-details {\n",
       "  display: contents;\n",
       "}\n",
       "\n",
       ".xr-array-wrap {\n",
       "  grid-column: 1 / -1;\n",
       "  display: grid;\n",
       "  grid-template-columns: 20px auto;\n",
       "}\n",
       "\n",
       ".xr-array-wrap > label {\n",
       "  grid-column: 1;\n",
       "  vertical-align: top;\n",
       "}\n",
       "\n",
       ".xr-preview {\n",
       "  color: var(--xr-font-color3);\n",
       "}\n",
       "\n",
       ".xr-array-preview,\n",
       ".xr-array-data {\n",
       "  padding: 0 5px !important;\n",
       "  grid-column: 2;\n",
       "}\n",
       "\n",
       ".xr-array-data,\n",
       ".xr-array-in:checked ~ .xr-array-preview {\n",
       "  display: none;\n",
       "}\n",
       "\n",
       ".xr-array-in:checked ~ .xr-array-data,\n",
       ".xr-array-preview {\n",
       "  display: inline-block;\n",
       "}\n",
       "\n",
       ".xr-dim-list {\n",
       "  display: inline-block !important;\n",
       "  list-style: none;\n",
       "  padding: 0 !important;\n",
       "  margin: 0;\n",
       "}\n",
       "\n",
       ".xr-dim-list li {\n",
       "  display: inline-block;\n",
       "  padding: 0;\n",
       "  margin: 0;\n",
       "}\n",
       "\n",
       ".xr-dim-list:before {\n",
       "  content: '(';\n",
       "}\n",
       "\n",
       ".xr-dim-list:after {\n",
       "  content: ')';\n",
       "}\n",
       "\n",
       ".xr-dim-list li:not(:last-child):after {\n",
       "  content: ',';\n",
       "  padding-right: 5px;\n",
       "}\n",
       "\n",
       ".xr-has-index {\n",
       "  font-weight: bold;\n",
       "}\n",
       "\n",
       ".xr-var-list,\n",
       ".xr-var-item {\n",
       "  display: contents;\n",
       "}\n",
       "\n",
       ".xr-var-item > div,\n",
       ".xr-var-item label,\n",
       ".xr-var-item > .xr-var-name span {\n",
       "  background-color: var(--xr-background-color-row-even);\n",
       "  margin-bottom: 0;\n",
       "}\n",
       "\n",
       ".xr-var-item > .xr-var-name:hover span {\n",
       "  padding-right: 5px;\n",
       "}\n",
       "\n",
       ".xr-var-list > li:nth-child(odd) > div,\n",
       ".xr-var-list > li:nth-child(odd) > label,\n",
       ".xr-var-list > li:nth-child(odd) > .xr-var-name span {\n",
       "  background-color: var(--xr-background-color-row-odd);\n",
       "}\n",
       "\n",
       ".xr-var-name {\n",
       "  grid-column: 1;\n",
       "}\n",
       "\n",
       ".xr-var-dims {\n",
       "  grid-column: 2;\n",
       "}\n",
       "\n",
       ".xr-var-dtype {\n",
       "  grid-column: 3;\n",
       "  text-align: right;\n",
       "  color: var(--xr-font-color2);\n",
       "}\n",
       "\n",
       ".xr-var-preview {\n",
       "  grid-column: 4;\n",
       "}\n",
       "\n",
       ".xr-index-preview {\n",
       "  grid-column: 2 / 5;\n",
       "  color: var(--xr-font-color2);\n",
       "}\n",
       "\n",
       ".xr-var-name,\n",
       ".xr-var-dims,\n",
       ".xr-var-dtype,\n",
       ".xr-preview,\n",
       ".xr-attrs dt {\n",
       "  white-space: nowrap;\n",
       "  overflow: hidden;\n",
       "  text-overflow: ellipsis;\n",
       "  padding-right: 10px;\n",
       "}\n",
       "\n",
       ".xr-var-name:hover,\n",
       ".xr-var-dims:hover,\n",
       ".xr-var-dtype:hover,\n",
       ".xr-attrs dt:hover {\n",
       "  overflow: visible;\n",
       "  width: auto;\n",
       "  z-index: 1;\n",
       "}\n",
       "\n",
       ".xr-var-attrs,\n",
       ".xr-var-data,\n",
       ".xr-index-data {\n",
       "  display: none;\n",
       "  background-color: var(--xr-background-color) !important;\n",
       "  padding-bottom: 5px !important;\n",
       "}\n",
       "\n",
       ".xr-var-attrs-in:checked ~ .xr-var-attrs,\n",
       ".xr-var-data-in:checked ~ .xr-var-data,\n",
       ".xr-index-data-in:checked ~ .xr-index-data {\n",
       "  display: block;\n",
       "}\n",
       "\n",
       ".xr-var-data > table {\n",
       "  float: right;\n",
       "}\n",
       "\n",
       ".xr-var-name span,\n",
       ".xr-var-data,\n",
       ".xr-index-name div,\n",
       ".xr-index-data,\n",
       ".xr-attrs {\n",
       "  padding-left: 25px !important;\n",
       "}\n",
       "\n",
       ".xr-attrs,\n",
       ".xr-var-attrs,\n",
       ".xr-var-data,\n",
       ".xr-index-data {\n",
       "  grid-column: 1 / -1;\n",
       "}\n",
       "\n",
       "dl.xr-attrs {\n",
       "  padding: 0;\n",
       "  margin: 0;\n",
       "  display: grid;\n",
       "  grid-template-columns: 125px auto;\n",
       "}\n",
       "\n",
       ".xr-attrs dt,\n",
       ".xr-attrs dd {\n",
       "  padding: 0;\n",
       "  margin: 0;\n",
       "  float: left;\n",
       "  padding-right: 10px;\n",
       "  width: auto;\n",
       "}\n",
       "\n",
       ".xr-attrs dt {\n",
       "  font-weight: normal;\n",
       "  grid-column: 1;\n",
       "}\n",
       "\n",
       ".xr-attrs dt:hover span {\n",
       "  display: inline-block;\n",
       "  background: var(--xr-background-color);\n",
       "  padding-right: 10px;\n",
       "}\n",
       "\n",
       ".xr-attrs dd {\n",
       "  grid-column: 2;\n",
       "  white-space: pre-wrap;\n",
       "  word-break: break-all;\n",
       "}\n",
       "\n",
       ".xr-icon-database,\n",
       ".xr-icon-file-text2,\n",
       ".xr-no-icon {\n",
       "  display: inline-block;\n",
       "  vertical-align: middle;\n",
       "  width: 1em;\n",
       "  height: 1.5em !important;\n",
       "  stroke-width: 0;\n",
       "  stroke: currentColor;\n",
       "  fill: currentColor;\n",
       "}\n",
       "</style><pre class='xr-text-repr-fallback'>&lt;xarray.DataArray &#x27;field&#x27; (iteration: 14, x: 20, y: 10, z: 4, vdims: 3)&gt;\n",
       "array([[[[[ 3.50067876e+05,  6.98022376e+05,  1.73831082e+05],\n",
       "          [ 3.50067876e+05,  6.98022376e+05,  1.73831082e+05],\n",
       "          [ 3.50067876e+05,  6.98022376e+05,  1.73831082e+05],\n",
       "          [ 3.50067876e+05,  6.98022376e+05,  1.73831082e+05]],\n",
       "\n",
       "         [[ 3.50067876e+05,  6.98022376e+05,  1.73831082e+05],\n",
       "          [ 3.50067876e+05,  6.98022376e+05,  1.73831082e+05],\n",
       "          [ 3.50067876e+05,  6.98022376e+05,  1.73831082e+05],\n",
       "          [ 3.50067876e+05,  6.98022376e+05,  1.73831082e+05]],\n",
       "\n",
       "         [[ 3.50067876e+05,  6.98022376e+05,  1.73831082e+05],\n",
       "          [ 3.50067876e+05,  6.98022376e+05,  1.73831082e+05],\n",
       "          [ 3.50067876e+05,  6.98022376e+05,  1.73831082e+05],\n",
       "          [ 3.50067876e+05,  6.98022376e+05,  1.73831082e+05]],\n",
       "\n",
       "         ...,\n",
       "\n",
       "         [[ 3.50067876e+05,  6.98022376e+05,  1.73831082e+05],\n",
       "          [ 3.50067876e+05,  6.98022376e+05,  1.73831082e+05],\n",
       "          [ 3.50067876e+05,  6.98022376e+05,  1.73831082e+05],\n",
       "...\n",
       "          [-3.33701946e-06, -6.65389694e-06,  8.00000000e+05],\n",
       "          [-3.33701946e-06, -6.65389694e-06,  8.00000000e+05],\n",
       "          [-3.33701946e-06, -6.65389694e-06,  8.00000000e+05]],\n",
       "\n",
       "         ...,\n",
       "\n",
       "         [[-3.33701946e-06, -6.65389694e-06,  8.00000000e+05],\n",
       "          [-3.33701946e-06, -6.65389694e-06,  8.00000000e+05],\n",
       "          [-3.33701946e-06, -6.65389694e-06,  8.00000000e+05],\n",
       "          [-3.33701946e-06, -6.65389694e-06,  8.00000000e+05]],\n",
       "\n",
       "         [[-3.33701946e-06, -6.65389694e-06,  8.00000000e+05],\n",
       "          [-3.33701946e-06, -6.65389694e-06,  8.00000000e+05],\n",
       "          [-3.33701946e-06, -6.65389694e-06,  8.00000000e+05],\n",
       "          [-3.33701946e-06, -6.65389694e-06,  8.00000000e+05]],\n",
       "\n",
       "         [[-3.33701946e-06, -6.65389694e-06,  8.00000000e+05],\n",
       "          [-3.33701946e-06, -6.65389694e-06,  8.00000000e+05],\n",
       "          [-3.33701946e-06, -6.65389694e-06,  8.00000000e+05],\n",
       "          [-3.33701946e-06, -6.65389694e-06,  8.00000000e+05]]]]])\n",
       "Coordinates:\n",
       "  * x          (x) float64 -4.75e-08 -4.25e-08 -3.75e-08 ... 4.25e-08 4.75e-08\n",
       "  * y          (y) float64 -2.25e-08 -1.75e-08 -1.25e-08 ... 1.75e-08 2.25e-08\n",
       "  * z          (z) float64 2.5e-09 7.5e-09 1.25e-08 1.75e-08\n",
       "  * vdims      (vdims) &lt;U1 &#x27;x&#x27; &#x27;y&#x27; &#x27;z&#x27;\n",
       "  * iteration  (iteration) float64 0.0 1.0 2.0 3.0 4.0 ... 10.0 11.0 12.0 13.0\n",
       "Attributes:\n",
       "    drive_number:  6\n",
       "    date:          2023-11-07\n",
       "    time:          09:47:26\n",
       "    driver:        MinDriver\n",
       "    n_threads:     None</pre><div class='xr-wrap' style='display:none'><div class='xr-header'><div class='xr-obj-type'>xarray.DataArray</div><div class='xr-array-name'>'field'</div><ul class='xr-dim-list'><li><span class='xr-has-index'>iteration</span>: 14</li><li><span class='xr-has-index'>x</span>: 20</li><li><span class='xr-has-index'>y</span>: 10</li><li><span class='xr-has-index'>z</span>: 4</li><li><span class='xr-has-index'>vdims</span>: 3</li></ul></div><ul class='xr-sections'><li class='xr-section-item'><div class='xr-array-wrap'><input id='section-523af17b-82e9-4125-a0ac-0878a62f1296' class='xr-array-in' type='checkbox' checked><label for='section-523af17b-82e9-4125-a0ac-0878a62f1296' title='Show/hide data repr'><svg class='icon xr-icon-database'><use xlink:href='#icon-database'></use></svg></label><div class='xr-array-preview xr-preview'><span>3.501e+05 6.98e+05 1.738e+05 3.501e+05 ... -3.337e-06 -6.654e-06 8e+05</span></div><div class='xr-array-data'><pre>array([[[[[ 3.50067876e+05,  6.98022376e+05,  1.73831082e+05],\n",
       "          [ 3.50067876e+05,  6.98022376e+05,  1.73831082e+05],\n",
       "          [ 3.50067876e+05,  6.98022376e+05,  1.73831082e+05],\n",
       "          [ 3.50067876e+05,  6.98022376e+05,  1.73831082e+05]],\n",
       "\n",
       "         [[ 3.50067876e+05,  6.98022376e+05,  1.73831082e+05],\n",
       "          [ 3.50067876e+05,  6.98022376e+05,  1.73831082e+05],\n",
       "          [ 3.50067876e+05,  6.98022376e+05,  1.73831082e+05],\n",
       "          [ 3.50067876e+05,  6.98022376e+05,  1.73831082e+05]],\n",
       "\n",
       "         [[ 3.50067876e+05,  6.98022376e+05,  1.73831082e+05],\n",
       "          [ 3.50067876e+05,  6.98022376e+05,  1.73831082e+05],\n",
       "          [ 3.50067876e+05,  6.98022376e+05,  1.73831082e+05],\n",
       "          [ 3.50067876e+05,  6.98022376e+05,  1.73831082e+05]],\n",
       "\n",
       "         ...,\n",
       "\n",
       "         [[ 3.50067876e+05,  6.98022376e+05,  1.73831082e+05],\n",
       "          [ 3.50067876e+05,  6.98022376e+05,  1.73831082e+05],\n",
       "          [ 3.50067876e+05,  6.98022376e+05,  1.73831082e+05],\n",
       "...\n",
       "          [-3.33701946e-06, -6.65389694e-06,  8.00000000e+05],\n",
       "          [-3.33701946e-06, -6.65389694e-06,  8.00000000e+05],\n",
       "          [-3.33701946e-06, -6.65389694e-06,  8.00000000e+05]],\n",
       "\n",
       "         ...,\n",
       "\n",
       "         [[-3.33701946e-06, -6.65389694e-06,  8.00000000e+05],\n",
       "          [-3.33701946e-06, -6.65389694e-06,  8.00000000e+05],\n",
       "          [-3.33701946e-06, -6.65389694e-06,  8.00000000e+05],\n",
       "          [-3.33701946e-06, -6.65389694e-06,  8.00000000e+05]],\n",
       "\n",
       "         [[-3.33701946e-06, -6.65389694e-06,  8.00000000e+05],\n",
       "          [-3.33701946e-06, -6.65389694e-06,  8.00000000e+05],\n",
       "          [-3.33701946e-06, -6.65389694e-06,  8.00000000e+05],\n",
       "          [-3.33701946e-06, -6.65389694e-06,  8.00000000e+05]],\n",
       "\n",
       "         [[-3.33701946e-06, -6.65389694e-06,  8.00000000e+05],\n",
       "          [-3.33701946e-06, -6.65389694e-06,  8.00000000e+05],\n",
       "          [-3.33701946e-06, -6.65389694e-06,  8.00000000e+05],\n",
       "          [-3.33701946e-06, -6.65389694e-06,  8.00000000e+05]]]]])</pre></div></div></li><li class='xr-section-item'><input id='section-ee1709a0-1026-4f08-8513-fcaff05c1a15' class='xr-section-summary-in' type='checkbox'  checked><label for='section-ee1709a0-1026-4f08-8513-fcaff05c1a15' class='xr-section-summary' >Coordinates: <span>(5)</span></label><div class='xr-section-inline-details'></div><div class='xr-section-details'><ul class='xr-var-list'><li class='xr-var-item'><div class='xr-var-name'><span class='xr-has-index'>x</span></div><div class='xr-var-dims'>(x)</div><div class='xr-var-dtype'>float64</div><div class='xr-var-preview xr-preview'>-4.75e-08 -4.25e-08 ... 4.75e-08</div><input id='attrs-9cec33d3-8ef7-4564-b120-f660b29bb5d7' class='xr-var-attrs-in' type='checkbox' ><label for='attrs-9cec33d3-8ef7-4564-b120-f660b29bb5d7' title='Show/Hide attributes'><svg class='icon xr-icon-file-text2'><use xlink:href='#icon-file-text2'></use></svg></label><input id='data-be6b4d0a-e7e0-48d4-ba59-bb7c04b3ed7a' class='xr-var-data-in' type='checkbox'><label for='data-be6b4d0a-e7e0-48d4-ba59-bb7c04b3ed7a' title='Show/Hide data repr'><svg class='icon xr-icon-database'><use xlink:href='#icon-database'></use></svg></label><div class='xr-var-attrs'><dl class='xr-attrs'><dt><span>units :</span></dt><dd>m</dd></dl></div><div class='xr-var-data'><pre>array([-4.75e-08, -4.25e-08, -3.75e-08, -3.25e-08, -2.75e-08, -2.25e-08,\n",
       "       -1.75e-08, -1.25e-08, -7.50e-09, -2.50e-09,  2.50e-09,  7.50e-09,\n",
       "        1.25e-08,  1.75e-08,  2.25e-08,  2.75e-08,  3.25e-08,  3.75e-08,\n",
       "        4.25e-08,  4.75e-08])</pre></div></li><li class='xr-var-item'><div class='xr-var-name'><span class='xr-has-index'>y</span></div><div class='xr-var-dims'>(y)</div><div class='xr-var-dtype'>float64</div><div class='xr-var-preview xr-preview'>-2.25e-08 -1.75e-08 ... 2.25e-08</div><input id='attrs-48fa8b8f-dfa5-41eb-8fbe-2085a4e83204' class='xr-var-attrs-in' type='checkbox' ><label for='attrs-48fa8b8f-dfa5-41eb-8fbe-2085a4e83204' title='Show/Hide attributes'><svg class='icon xr-icon-file-text2'><use xlink:href='#icon-file-text2'></use></svg></label><input id='data-8c38bbff-55d6-456e-8bab-0dab2d7a8edb' class='xr-var-data-in' type='checkbox'><label for='data-8c38bbff-55d6-456e-8bab-0dab2d7a8edb' title='Show/Hide data repr'><svg class='icon xr-icon-database'><use xlink:href='#icon-database'></use></svg></label><div class='xr-var-attrs'><dl class='xr-attrs'><dt><span>units :</span></dt><dd>m</dd></dl></div><div class='xr-var-data'><pre>array([-2.25e-08, -1.75e-08, -1.25e-08, -7.50e-09, -2.50e-09,  2.50e-09,\n",
       "        7.50e-09,  1.25e-08,  1.75e-08,  2.25e-08])</pre></div></li><li class='xr-var-item'><div class='xr-var-name'><span class='xr-has-index'>z</span></div><div class='xr-var-dims'>(z)</div><div class='xr-var-dtype'>float64</div><div class='xr-var-preview xr-preview'>2.5e-09 7.5e-09 1.25e-08 1.75e-08</div><input id='attrs-eab2e8e1-fdce-44c7-b86b-73a7c71241ab' class='xr-var-attrs-in' type='checkbox' ><label for='attrs-eab2e8e1-fdce-44c7-b86b-73a7c71241ab' title='Show/Hide attributes'><svg class='icon xr-icon-file-text2'><use xlink:href='#icon-file-text2'></use></svg></label><input id='data-bd0d231f-ba16-4fae-b066-4e303a21b0e7' class='xr-var-data-in' type='checkbox'><label for='data-bd0d231f-ba16-4fae-b066-4e303a21b0e7' title='Show/Hide data repr'><svg class='icon xr-icon-database'><use xlink:href='#icon-database'></use></svg></label><div class='xr-var-attrs'><dl class='xr-attrs'><dt><span>units :</span></dt><dd>m</dd></dl></div><div class='xr-var-data'><pre>array([2.50e-09, 7.50e-09, 1.25e-08, 1.75e-08])</pre></div></li><li class='xr-var-item'><div class='xr-var-name'><span class='xr-has-index'>vdims</span></div><div class='xr-var-dims'>(vdims)</div><div class='xr-var-dtype'>&lt;U1</div><div class='xr-var-preview xr-preview'>&#x27;x&#x27; &#x27;y&#x27; &#x27;z&#x27;</div><input id='attrs-59226c0a-50e6-4a9e-ae17-6aaa35a56688' class='xr-var-attrs-in' type='checkbox' disabled><label for='attrs-59226c0a-50e6-4a9e-ae17-6aaa35a56688' title='Show/Hide attributes'><svg class='icon xr-icon-file-text2'><use xlink:href='#icon-file-text2'></use></svg></label><input id='data-3fe7acaa-d255-41a5-8df8-7d2b3bf107d3' class='xr-var-data-in' type='checkbox'><label for='data-3fe7acaa-d255-41a5-8df8-7d2b3bf107d3' title='Show/Hide data repr'><svg class='icon xr-icon-database'><use xlink:href='#icon-database'></use></svg></label><div class='xr-var-attrs'><dl class='xr-attrs'></dl></div><div class='xr-var-data'><pre>array([&#x27;x&#x27;, &#x27;y&#x27;, &#x27;z&#x27;], dtype=&#x27;&lt;U1&#x27;)</pre></div></li><li class='xr-var-item'><div class='xr-var-name'><span class='xr-has-index'>iteration</span></div><div class='xr-var-dims'>(iteration)</div><div class='xr-var-dtype'>float64</div><div class='xr-var-preview xr-preview'>0.0 1.0 2.0 3.0 ... 11.0 12.0 13.0</div><input id='attrs-13983ef8-69d6-402f-986c-d5a01369d01c' class='xr-var-attrs-in' type='checkbox' ><label for='attrs-13983ef8-69d6-402f-986c-d5a01369d01c' title='Show/Hide attributes'><svg class='icon xr-icon-file-text2'><use xlink:href='#icon-file-text2'></use></svg></label><input id='data-ffdc9b02-a4ef-45ea-9097-694a066f4aa7' class='xr-var-data-in' type='checkbox'><label for='data-ffdc9b02-a4ef-45ea-9097-694a066f4aa7' title='Show/Hide data repr'><svg class='icon xr-icon-database'><use xlink:href='#icon-database'></use></svg></label><div class='xr-var-attrs'><dl class='xr-attrs'><dt><span>units :</span></dt><dd></dd></dl></div><div class='xr-var-data'><pre>array([ 0.,  1.,  2.,  3.,  4.,  5.,  6.,  7.,  8.,  9., 10., 11., 12., 13.])</pre></div></li></ul></div></li><li class='xr-section-item'><input id='section-aa45f22c-ae08-498b-aa64-dcafc5048629' class='xr-section-summary-in' type='checkbox'  ><label for='section-aa45f22c-ae08-498b-aa64-dcafc5048629' class='xr-section-summary' >Indexes: <span>(5)</span></label><div class='xr-section-inline-details'></div><div class='xr-section-details'><ul class='xr-var-list'><li class='xr-var-item'><div class='xr-index-name'><div>x</div></div><div class='xr-index-preview'>PandasIndex</div><div></div><input id='index-58f51c56-9724-4c52-a38b-1bb72d89c549' class='xr-index-data-in' type='checkbox'/><label for='index-58f51c56-9724-4c52-a38b-1bb72d89c549' title='Show/Hide index repr'><svg class='icon xr-icon-database'><use xlink:href='#icon-database'></use></svg></label><div class='xr-index-data'><pre>PandasIndex(Index([-4.7499999999999995e-08,               -4.25e-08,\n",
       "                     -3.75e-08,  -3.249999999999999e-08,\n",
       "       -2.7499999999999998e-08,               -2.25e-08,\n",
       "       -1.7499999999999998e-08,               -1.25e-08,\n",
       "        -7.500000000000001e-09, -2.5000000000000025e-09,\n",
       "         2.499999999999996e-09,   7.499999999999994e-09,\n",
       "                      1.25e-08,   1.749999999999999e-08,\n",
       "        2.2499999999999996e-08,  2.7499999999999988e-08,\n",
       "         3.249999999999999e-08,                3.75e-08,\n",
       "         4.249999999999999e-08,  4.7499999999999995e-08],\n",
       "      dtype=&#x27;float64&#x27;, name=&#x27;x&#x27;))</pre></div></li><li class='xr-var-item'><div class='xr-index-name'><div>y</div></div><div class='xr-index-preview'>PandasIndex</div><div></div><input id='index-d3fdaa06-75cd-4df8-88f1-21012b2499d5' class='xr-index-data-in' type='checkbox'/><label for='index-d3fdaa06-75cd-4df8-88f1-21012b2499d5' title='Show/Hide index repr'><svg class='icon xr-icon-database'><use xlink:href='#icon-database'></use></svg></label><div class='xr-index-data'><pre>PandasIndex(Index([              -2.25e-08, -1.7499999999999998e-08,\n",
       "                     -1.25e-08,  -7.499999999999998e-09,\n",
       "       -2.4999999999999992e-09,  2.4999999999999992e-09,\n",
       "         7.500000000000004e-09,  1.2500000000000003e-08,\n",
       "                      1.75e-08,                2.25e-08],\n",
       "      dtype=&#x27;float64&#x27;, name=&#x27;y&#x27;))</pre></div></li><li class='xr-var-item'><div class='xr-index-name'><div>z</div></div><div class='xr-index-preview'>PandasIndex</div><div></div><input id='index-d5b75451-781f-4e31-aebb-81cb586645f7' class='xr-index-data-in' type='checkbox'/><label for='index-d5b75451-781f-4e31-aebb-81cb586645f7' title='Show/Hide index repr'><svg class='icon xr-icon-database'><use xlink:href='#icon-database'></use></svg></label><div class='xr-index-data'><pre>PandasIndex(Index([2.5e-09, 7.500000000000001e-09, 1.2500000000000003e-08, 1.75e-08], dtype=&#x27;float64&#x27;, name=&#x27;z&#x27;))</pre></div></li><li class='xr-var-item'><div class='xr-index-name'><div>vdims</div></div><div class='xr-index-preview'>PandasIndex</div><div></div><input id='index-8aeb9d1a-4c4c-42da-88f4-c59e62893263' class='xr-index-data-in' type='checkbox'/><label for='index-8aeb9d1a-4c4c-42da-88f4-c59e62893263' title='Show/Hide index repr'><svg class='icon xr-icon-database'><use xlink:href='#icon-database'></use></svg></label><div class='xr-index-data'><pre>PandasIndex(Index([&#x27;x&#x27;, &#x27;y&#x27;, &#x27;z&#x27;], dtype=&#x27;object&#x27;, name=&#x27;vdims&#x27;))</pre></div></li><li class='xr-var-item'><div class='xr-index-name'><div>iteration</div></div><div class='xr-index-preview'>PandasIndex</div><div></div><input id='index-f5c30af3-914c-4012-9ee0-b96a3ca2a12b' class='xr-index-data-in' type='checkbox'/><label for='index-f5c30af3-914c-4012-9ee0-b96a3ca2a12b' title='Show/Hide index repr'><svg class='icon xr-icon-database'><use xlink:href='#icon-database'></use></svg></label><div class='xr-index-data'><pre>PandasIndex(Index([0.0, 1.0, 2.0, 3.0, 4.0, 5.0, 6.0, 7.0, 8.0, 9.0, 10.0, 11.0, 12.0,\n",
       "       13.0],\n",
       "      dtype=&#x27;float64&#x27;, name=&#x27;iteration&#x27;))</pre></div></li></ul></div></li><li class='xr-section-item'><input id='section-d6ad3984-5cbb-42f1-aca8-d901d46e9b83' class='xr-section-summary-in' type='checkbox'  checked><label for='section-d6ad3984-5cbb-42f1-aca8-d901d46e9b83' class='xr-section-summary' >Attributes: <span>(5)</span></label><div class='xr-section-inline-details'></div><div class='xr-section-details'><dl class='xr-attrs'><dt><span>drive_number :</span></dt><dd>6</dd><dt><span>date :</span></dt><dd>2023-11-07</dd><dt><span>time :</span></dt><dd>09:47:26</dd><dt><span>driver :</span></dt><dd>MinDriver</dd><dt><span>n_threads :</span></dt><dd>None</dd></dl></div></li></ul></div></div>"
      ],
      "text/plain": [
       "<xarray.DataArray 'field' (iteration: 14, x: 20, y: 10, z: 4, vdims: 3)>\n",
       "array([[[[[ 3.50067876e+05,  6.98022376e+05,  1.73831082e+05],\n",
       "          [ 3.50067876e+05,  6.98022376e+05,  1.73831082e+05],\n",
       "          [ 3.50067876e+05,  6.98022376e+05,  1.73831082e+05],\n",
       "          [ 3.50067876e+05,  6.98022376e+05,  1.73831082e+05]],\n",
       "\n",
       "         [[ 3.50067876e+05,  6.98022376e+05,  1.73831082e+05],\n",
       "          [ 3.50067876e+05,  6.98022376e+05,  1.73831082e+05],\n",
       "          [ 3.50067876e+05,  6.98022376e+05,  1.73831082e+05],\n",
       "          [ 3.50067876e+05,  6.98022376e+05,  1.73831082e+05]],\n",
       "\n",
       "         [[ 3.50067876e+05,  6.98022376e+05,  1.73831082e+05],\n",
       "          [ 3.50067876e+05,  6.98022376e+05,  1.73831082e+05],\n",
       "          [ 3.50067876e+05,  6.98022376e+05,  1.73831082e+05],\n",
       "          [ 3.50067876e+05,  6.98022376e+05,  1.73831082e+05]],\n",
       "\n",
       "         ...,\n",
       "\n",
       "         [[ 3.50067876e+05,  6.98022376e+05,  1.73831082e+05],\n",
       "          [ 3.50067876e+05,  6.98022376e+05,  1.73831082e+05],\n",
       "          [ 3.50067876e+05,  6.98022376e+05,  1.73831082e+05],\n",
       "...\n",
       "          [-3.33701946e-06, -6.65389694e-06,  8.00000000e+05],\n",
       "          [-3.33701946e-06, -6.65389694e-06,  8.00000000e+05],\n",
       "          [-3.33701946e-06, -6.65389694e-06,  8.00000000e+05]],\n",
       "\n",
       "         ...,\n",
       "\n",
       "         [[-3.33701946e-06, -6.65389694e-06,  8.00000000e+05],\n",
       "          [-3.33701946e-06, -6.65389694e-06,  8.00000000e+05],\n",
       "          [-3.33701946e-06, -6.65389694e-06,  8.00000000e+05],\n",
       "          [-3.33701946e-06, -6.65389694e-06,  8.00000000e+05]],\n",
       "\n",
       "         [[-3.33701946e-06, -6.65389694e-06,  8.00000000e+05],\n",
       "          [-3.33701946e-06, -6.65389694e-06,  8.00000000e+05],\n",
       "          [-3.33701946e-06, -6.65389694e-06,  8.00000000e+05],\n",
       "          [-3.33701946e-06, -6.65389694e-06,  8.00000000e+05]],\n",
       "\n",
       "         [[-3.33701946e-06, -6.65389694e-06,  8.00000000e+05],\n",
       "          [-3.33701946e-06, -6.65389694e-06,  8.00000000e+05],\n",
       "          [-3.33701946e-06, -6.65389694e-06,  8.00000000e+05],\n",
       "          [-3.33701946e-06, -6.65389694e-06,  8.00000000e+05]]]]])\n",
       "Coordinates:\n",
       "  * x          (x) float64 -4.75e-08 -4.25e-08 -3.75e-08 ... 4.25e-08 4.75e-08\n",
       "  * y          (y) float64 -2.25e-08 -1.75e-08 -1.25e-08 ... 1.75e-08 2.25e-08\n",
       "  * z          (z) float64 2.5e-09 7.5e-09 1.25e-08 1.75e-08\n",
       "  * vdims      (vdims) <U1 'x' 'y' 'z'\n",
       "  * iteration  (iteration) float64 0.0 1.0 2.0 3.0 4.0 ... 10.0 11.0 12.0 13.0\n",
       "Attributes:\n",
       "    drive_number:  6\n",
       "    date:          2023-11-07\n",
       "    time:          09:47:26\n",
       "    driver:        MinDriver\n",
       "    n_threads:     None"
      ]
     },
     "execution_count": 21,
     "metadata": {},
     "output_type": "execute_result"
    }
   ],
   "source": [
    "drive.to_xarray()"
   ]
  },
  {
   "cell_type": "markdown",
   "metadata": {},
   "source": [
    "## `CombinedDrive`\n",
    "\n",
    "Multiple drives can be concatenated to create one \"longer\" drive. This can e.g. be convenient to analyse multiple consecutive time drives. Combining drives is done via the `<<` operator which appends the right-hand-side drive to the left-hand-side drive. It returns a new `CombinedDrive` object that behaves very similar to the `Drive` object."
   ]
  },
  {
   "cell_type": "code",
   "execution_count": 22,
   "metadata": {
    "tags": [
     "nbval-ignore-output"
    ]
   },
   "outputs": [
    {
     "data": {
      "text/plain": [
       "CombinedDrive(\n",
       "  OOMMFDrive(name='rectangle', number=0, dirname='../micromagneticdata/tests/test_sample', x='t'),\n",
       "  Mumax3Drive(name='rectangle', number=1, dirname='../micromagneticdata/tests/test_sample', x='t'),\n",
       "  Mumax3Drive(name='rectangle', number=2, dirname='../micromagneticdata/tests/test_sample', x='t')\n",
       ")"
      ]
     },
     "execution_count": 22,
     "metadata": {},
     "output_type": "execute_result"
    }
   ],
   "source": [
    "combined = data[0] << data[1] << data[2]\n",
    "combined"
   ]
  },
  {
   "cell_type": "markdown",
   "metadata": {},
   "source": [
    "The combined drive has a property `drives` that provides a list of all individual drives."
   ]
  },
  {
   "cell_type": "code",
   "execution_count": 23,
   "metadata": {
    "tags": [
     "nbval-ignore-output"
    ]
   },
   "outputs": [
    {
     "data": {
      "text/plain": [
       "(OOMMFDrive(name='rectangle', number=0, dirname='../micromagneticdata/tests/test_sample', x='t'),\n",
       " Mumax3Drive(name='rectangle', number=1, dirname='../micromagneticdata/tests/test_sample', x='t'),\n",
       " Mumax3Drive(name='rectangle', number=2, dirname='../micromagneticdata/tests/test_sample', x='t'))"
      ]
     },
     "execution_count": 23,
     "metadata": {},
     "output_type": "execute_result"
    }
   ],
   "source": [
    "combined.drives"
   ]
  },
  {
   "cell_type": "code",
   "execution_count": 24,
   "metadata": {},
   "outputs": [
    {
     "data": {
      "text/plain": [
       "{'drive_numbers': [0, 1, 2], 'driver': 'TimeDriver'}"
      ]
     },
     "execution_count": 24,
     "metadata": {},
     "output_type": "execute_result"
    }
   ],
   "source": [
    "combined.info"
   ]
  },
  {
   "cell_type": "markdown",
   "metadata": {},
   "source": [
    "We have direct access to the initial magnetisation of the first drive."
   ]
  },
  {
   "cell_type": "code",
   "execution_count": 25,
   "metadata": {},
   "outputs": [
    {
     "data": {
      "text/html": [
       "<strong>Field</strong>\n",
       "<ul>\n",
       "  \n",
       "  <li><strong>Mesh</strong>\n",
       "<ul>\n",
       "  <li><strong>Region</strong>\n",
       "<ul>\n",
       "  <li>pmin = [-5e-08, -2.5e-08, 0.0]</li>\n",
       "  <li>pmax = [5e-08, 2.5e-08, 2e-08]</li>\n",
       "  <li>dims = ['x', 'y', 'z']</li>\n",
       "  <li>units = ['m', 'm', 'm']</li>\n",
       "</ul></li>\n",
       "  <li>n = [20, 10, 4]</li>\n",
       "  <li>subregions:\n",
       "    <ul>\n",
       "      <li><strong>Region</strong> <i>total</i>\n",
       "<ul>\n",
       "  <li>pmin = [-5e-08, -2.5e-08, 0.0]</li>\n",
       "  <li>pmax = [5e-08, 2.5e-08, 2e-08]</li>\n",
       "  <li>dims = ['x', 'y', 'z']</li>\n",
       "  <li>units = ['m', 'm', 'm']</li>\n",
       "</ul></li>\n",
       "      </ul></li>\n",
       "  </ul></li>\n",
       "  <li>nvdim = 3</li>\n",
       "  <li>vdims:\n",
       "      <ul><li>x</li>\n",
       "        <li>y</li>\n",
       "        <li>z</li>\n",
       "        </ul>\n",
       "    </li>\n",
       "  <li>unit = None</li>\n",
       "  </ul>"
      ],
      "text/plain": [
       "Field(Mesh(Region(pmin=[-5e-08, -2.5e-08, 0.0], pmax=[5e-08, 2.5e-08, 2e-08], dims=['x', 'y', 'z'], units=['m', 'm', 'm']), n=[20, 10, 4], subregions: (Region`total`(pmin=[-5e-08, -2.5e-08, 0.0], pmax=[5e-08, 2.5e-08, 2e-08], dims=['x', 'y', 'z'], units=['m', 'm', 'm']))), nvdim=3, vdims: (x, y, z), unit=None)"
      ]
     },
     "execution_count": 25,
     "metadata": {},
     "output_type": "execute_result"
    }
   ],
   "source": [
    "combined.m0"
   ]
  },
  {
   "cell_type": "code",
   "execution_count": 26,
   "metadata": {},
   "outputs": [
    {
     "data": {
      "text/plain": [
       "290"
      ]
     },
     "execution_count": 26,
     "metadata": {},
     "output_type": "execute_result"
    }
   ],
   "source": [
    "combined.n"
   ]
  },
  {
   "cell_type": "markdown",
   "metadata": {},
   "source": [
    "The combined drive has one large table that contains the data for all individual drives."
   ]
  },
  {
   "cell_type": "code",
   "execution_count": 27,
   "metadata": {},
   "outputs": [
    {
     "data": {
      "image/png": "[encoded data removed]",
      "text/plain": [
       "<Figure size 800x600 with 1 Axes>"
      ]
     },
     "metadata": {},
     "output_type": "display_data"
    }
   ],
   "source": [
    "combined.table.mpl(y=[\"mx\", \"my\", \"mz\"])"
   ]
  },
  {
   "cell_type": "markdown",
   "metadata": {},
   "source": [
    "We can iterate over the drives in the combined drive or access a single element."
   ]
  },
  {
   "cell_type": "code",
   "execution_count": 28,
   "metadata": {},
   "outputs": [
    {
     "data": {
      "text/html": [
       "<strong>Field</strong>\n",
       "<ul>\n",
       "  \n",
       "  <li><strong>Mesh</strong>\n",
       "<ul>\n",
       "  <li><strong>Region</strong>\n",
       "<ul>\n",
       "  <li>pmin = [-5e-08, -2.5e-08, 0.0]</li>\n",
       "  <li>pmax = [5e-08, 2.5e-08, 2e-08]</li>\n",
       "  <li>dims = ['x', 'y', 'z']</li>\n",
       "  <li>units = ['m', 'm', 'm']</li>\n",
       "</ul></li>\n",
       "  <li>n = [20, 10, 4]</li>\n",
       "  <li>subregions:\n",
       "    <ul>\n",
       "      <li><strong>Region</strong> <i>total</i>\n",
       "<ul>\n",
       "  <li>pmin = [-5e-08, -2.5e-08, 0.0]</li>\n",
       "  <li>pmax = [5e-08, 2.5e-08, 2e-08]</li>\n",
       "  <li>dims = ['x', 'y', 'z']</li>\n",
       "  <li>units = ['m', 'm', 'm']</li>\n",
       "</ul></li>\n",
       "      </ul></li>\n",
       "  </ul></li>\n",
       "  <li>nvdim = 3</li>\n",
       "  <li>vdims:\n",
       "      <ul><li>x</li>\n",
       "        <li>y</li>\n",
       "        <li>z</li>\n",
       "        </ul>\n",
       "    </li>\n",
       "  <li>unit = A/m</li>\n",
       "  </ul>"
      ],
      "text/plain": [
       "Field(Mesh(Region(pmin=[-5e-08, -2.5e-08, 0.0], pmax=[5e-08, 2.5e-08, 2e-08], dims=['x', 'y', 'z'], units=['m', 'm', 'm']), n=[20, 10, 4], subregions: (Region`total`(pmin=[-5e-08, -2.5e-08, 0.0], pmax=[5e-08, 2.5e-08, 2e-08], dims=['x', 'y', 'z'], units=['m', 'm', 'm']))), nvdim=3, vdims: (x, y, z), unit=A/m)"
      ]
     },
     "execution_count": 28,
     "metadata": {},
     "output_type": "execute_result"
    }
   ],
   "source": [
    "combined[15]"
   ]
  },
  {
   "cell_type": "code",
   "execution_count": 29,
   "metadata": {},
   "outputs": [
    {
     "data": {
      "text/plain": [
       "'t'"
      ]
     },
     "execution_count": 29,
     "metadata": {},
     "output_type": "execute_result"
    }
   ],
   "source": [
    "combined.x"
   ]
  },
  {
   "cell_type": "markdown",
   "metadata": {},
   "source": [
    "The combined drive can be converted into an `xarray.DataArray` similar to the normal `Drive`."
   ]
  },
  {
   "cell_type": "code",
   "execution_count": 30,
   "metadata": {
    "tags": [
     "nbval-ignore-output"
    ]
   },
   "outputs": [
    {
     "data": {
      "text/html": [
       "<div><svg style=\"position: absolute; width: 0; height: 0; overflow: hidden\">\n",
       "<defs>\n",
       "<symbol id=\"icon-database\" viewBox=\"0 0 32 32\">\n",
       "<path d=\"M16 0c-8.837 0-16 2.239-16 5v4c0 2.761 7.163 5 16 5s16-2.239 16-5v-4c0-2.761-7.163-5-16-5z\"></path>\n",
       "<path d=\"M16 17c-8.837 0-16-2.239-16-5v6c0 2.761 7.163 5 16 5s16-2.239 16-5v-6c0 2.761-7.163 5-16 5z\"></path>\n",
       "<path d=\"M16 26c-8.837 0-16-2.239-16-5v6c0 2.761 7.163 5 16 5s16-2.239 16-5v-6c0 2.761-7.163 5-16 5z\"></path>\n",
       "</symbol>\n",
       "<symbol id=\"icon-file-text2\" viewBox=\"0 0 32 32\">\n",
       "<path d=\"M28.681 7.159c-0.694-0.947-1.662-2.053-2.724-3.116s-2.169-2.030-3.116-2.724c-1.612-1.182-2.393-1.319-2.841-1.319h-15.5c-1.378 0-2.5 1.121-2.5 2.5v27c0 1.378 1.122 2.5 2.5 2.5h23c1.378 0 2.5-1.122 2.5-2.5v-19.5c0-0.448-0.137-1.23-1.319-2.841zM24.543 5.457c0.959 0.959 1.712 1.825 2.268 2.543h-4.811v-4.811c0.718 0.556 1.584 1.309 2.543 2.268zM28 29.5c0 0.271-0.229 0.5-0.5 0.5h-23c-0.271 0-0.5-0.229-0.5-0.5v-27c0-0.271 0.229-0.5 0.5-0.5 0 0 15.499-0 15.5 0v7c0 0.552 0.448 1 1 1h7v19.5z\"></path>\n",
       "<path d=\"M23 26h-14c-0.552 0-1-0.448-1-1s0.448-1 1-1h14c0.552 0 1 0.448 1 1s-0.448 1-1 1z\"></path>\n",
       "<path d=\"M23 22h-14c-0.552 0-1-0.448-1-1s0.448-1 1-1h14c0.552 0 1 0.448 1 1s-0.448 1-1 1z\"></path>\n",
       "<path d=\"M23 18h-14c-0.552 0-1-0.448-1-1s0.448-1 1-1h14c0.552 0 1 0.448 1 1s-0.448 1-1 1z\"></path>\n",
       "</symbol>\n",
       "</defs>\n",
       "</svg>\n",
       "<style>/* CSS stylesheet for displaying xarray objects in jupyterlab.\n",
       " *\n",
       " */\n",
       "\n",
       ":root {\n",
       "  --xr-font-color0: var(--jp-content-font-color0, rgba(0, 0, 0, 1));\n",
       "  --xr-font-color2: var(--jp-content-font-color2, rgba(0, 0, 0, 0.54));\n",
       "  --xr-font-color3: var(--jp-content-font-color3, rgba(0, 0, 0, 0.38));\n",
       "  --xr-border-color: var(--jp-border-color2, #e0e0e0);\n",
       "  --xr-disabled-color: var(--jp-layout-color3, #bdbdbd);\n",
       "  --xr-background-color: var(--jp-layout-color0, white);\n",
       "  --xr-background-color-row-even: var(--jp-layout-color1, white);\n",
       "  --xr-background-color-row-odd: var(--jp-layout-color2, #eeeeee);\n",
       "}\n",
       "\n",
       "html[theme=dark],\n",
       "body[data-theme=dark],\n",
       "body.vscode-dark {\n",
       "  --xr-font-color0: rgba(255, 255, 255, 1);\n",
       "  --xr-font-color2: rgba(255, 255, 255, 0.54);\n",
       "  --xr-font-color3: rgba(255, 255, 255, 0.38);\n",
       "  --xr-border-color: #1F1F1F;\n",
       "  --xr-disabled-color: #515151;\n",
       "  --xr-background-color: #111111;\n",
       "  --xr-background-color-row-even: #111111;\n",
       "  --xr-background-color-row-odd: #313131;\n",
       "}\n",
       "\n",
       ".xr-wrap {\n",
       "  display: block !important;\n",
       "  min-width: 300px;\n",
       "  max-width: 700px;\n",
       "}\n",
       "\n",
       ".xr-text-repr-fallback {\n",
       "  /* fallback to plain text repr when CSS is not injected (untrusted notebook) */\n",
       "  display: none;\n",
       "}\n",
       "\n",
       ".xr-header {\n",
       "  padding-top: 6px;\n",
       "  padding-bottom: 6px;\n",
       "  margin-bottom: 4px;\n",
       "  border-bottom: solid 1px var(--xr-border-color);\n",
       "}\n",
       "\n",
       ".xr-header > div,\n",
       ".xr-header > ul {\n",
       "  display: inline;\n",
       "  margin-top: 0;\n",
       "  margin-bottom: 0;\n",
       "}\n",
       "\n",
       ".xr-obj-type,\n",
       ".xr-array-name {\n",
       "  margin-left: 2px;\n",
       "  margin-right: 10px;\n",
       "}\n",
       "\n",
       ".xr-obj-type {\n",
       "  color: var(--xr-font-color2);\n",
       "}\n",
       "\n",
       ".xr-sections {\n",
       "  padding-left: 0 !important;\n",
       "  display: grid;\n",
       "  grid-template-columns: 150px auto auto 1fr 20px 20px;\n",
       "}\n",
       "\n",
       ".xr-section-item {\n",
       "  display: contents;\n",
       "}\n",
       "\n",
       ".xr-section-item input {\n",
       "  display: none;\n",
       "}\n",
       "\n",
       ".xr-section-item input + label {\n",
       "  color: var(--xr-disabled-color);\n",
       "}\n",
       "\n",
       ".xr-section-item input:enabled + label {\n",
       "  cursor: pointer;\n",
       "  color: var(--xr-font-color2);\n",
       "}\n",
       "\n",
       ".xr-section-item input:enabled + label:hover {\n",
       "  color: var(--xr-font-color0);\n",
       "}\n",
       "\n",
       ".xr-section-summary {\n",
       "  grid-column: 1;\n",
       "  color: var(--xr-font-color2);\n",
       "  font-weight: 500;\n",
       "}\n",
       "\n",
       ".xr-section-summary > span {\n",
       "  display: inline-block;\n",
       "  padding-left: 0.5em;\n",
       "}\n",
       "\n",
       ".xr-section-summary-in:disabled + label {\n",
       "  color: var(--xr-font-color2);\n",
       "}\n",
       "\n",
       ".xr-section-summary-in + label:before {\n",
       "  display: inline-block;\n",
       "  content: '►';\n",
       "  font-size: 11px;\n",
       "  width: 15px;\n",
       "  text-align: center;\n",
       "}\n",
       "\n",
       ".xr-section-summary-in:disabled + label:before {\n",
       "  color: var(--xr-disabled-color);\n",
       "}\n",
       "\n",
       ".xr-section-summary-in:checked + label:before {\n",
       "  content: '▼';\n",
       "}\n",
       "\n",
       ".xr-section-summary-in:checked + label > span {\n",
       "  display: none;\n",
       "}\n",
       "\n",
       ".xr-section-summary,\n",
       ".xr-section-inline-details {\n",
       "  padding-top: 4px;\n",
       "  padding-bottom: 4px;\n",
       "}\n",
       "\n",
       ".xr-section-inline-details {\n",
       "  grid-column: 2 / -1;\n",
       "}\n",
       "\n",
       ".xr-section-details {\n",
       "  display: none;\n",
       "  grid-column: 1 / -1;\n",
       "  margin-bottom: 5px;\n",
       "}\n",
       "\n",
       ".xr-section-summary-in:checked ~ .xr-section-details {\n",
       "  display: contents;\n",
       "}\n",
       "\n",
       ".xr-array-wrap {\n",
       "  grid-column: 1 / -1;\n",
       "  display: grid;\n",
       "  grid-template-columns: 20px auto;\n",
       "}\n",
       "\n",
       ".xr-array-wrap > label {\n",
       "  grid-column: 1;\n",
       "  vertical-align: top;\n",
       "}\n",
       "\n",
       ".xr-preview {\n",
       "  color: var(--xr-font-color3);\n",
       "}\n",
       "\n",
       ".xr-array-preview,\n",
       ".xr-array-data {\n",
       "  padding: 0 5px !important;\n",
       "  grid-column: 2;\n",
       "}\n",
       "\n",
       ".xr-array-data,\n",
       ".xr-array-in:checked ~ .xr-array-preview {\n",
       "  display: none;\n",
       "}\n",
       "\n",
       ".xr-array-in:checked ~ .xr-array-data,\n",
       ".xr-array-preview {\n",
       "  display: inline-block;\n",
       "}\n",
       "\n",
       ".xr-dim-list {\n",
       "  display: inline-block !important;\n",
       "  list-style: none;\n",
       "  padding: 0 !important;\n",
       "  margin: 0;\n",
       "}\n",
       "\n",
       ".xr-dim-list li {\n",
       "  display: inline-block;\n",
       "  padding: 0;\n",
       "  margin: 0;\n",
       "}\n",
       "\n",
       ".xr-dim-list:before {\n",
       "  content: '(';\n",
       "}\n",
       "\n",
       ".xr-dim-list:after {\n",
       "  content: ')';\n",
       "}\n",
       "\n",
       ".xr-dim-list li:not(:last-child):after {\n",
       "  content: ',';\n",
       "  padding-right: 5px;\n",
       "}\n",
       "\n",
       ".xr-has-index {\n",
       "  font-weight: bold;\n",
       "}\n",
       "\n",
       ".xr-var-list,\n",
       ".xr-var-item {\n",
       "  display: contents;\n",
       "}\n",
       "\n",
       ".xr-var-item > div,\n",
       ".xr-var-item label,\n",
       ".xr-var-item > .xr-var-name span {\n",
       "  background-color: var(--xr-background-color-row-even);\n",
       "  margin-bottom: 0;\n",
       "}\n",
       "\n",
       ".xr-var-item > .xr-var-name:hover span {\n",
       "  padding-right: 5px;\n",
       "}\n",
       "\n",
       ".xr-var-list > li:nth-child(odd) > div,\n",
       ".xr-var-list > li:nth-child(odd) > label,\n",
       ".xr-var-list > li:nth-child(odd) > .xr-var-name span {\n",
       "  background-color: var(--xr-background-color-row-odd);\n",
       "}\n",
       "\n",
       ".xr-var-name {\n",
       "  grid-column: 1;\n",
       "}\n",
       "\n",
       ".xr-var-dims {\n",
       "  grid-column: 2;\n",
       "}\n",
       "\n",
       ".xr-var-dtype {\n",
       "  grid-column: 3;\n",
       "  text-align: right;\n",
       "  color: var(--xr-font-color2);\n",
       "}\n",
       "\n",
       ".xr-var-preview {\n",
       "  grid-column: 4;\n",
       "}\n",
       "\n",
       ".xr-index-preview {\n",
       "  grid-column: 2 / 5;\n",
       "  color: var(--xr-font-color2);\n",
       "}\n",
       "\n",
       ".xr-var-name,\n",
       ".xr-var-dims,\n",
       ".xr-var-dtype,\n",
       ".xr-preview,\n",
       ".xr-attrs dt {\n",
       "  white-space: nowrap;\n",
       "  overflow: hidden;\n",
       "  text-overflow: ellipsis;\n",
       "  padding-right: 10px;\n",
       "}\n",
       "\n",
       ".xr-var-name:hover,\n",
       ".xr-var-dims:hover,\n",
       ".xr-var-dtype:hover,\n",
       ".xr-attrs dt:hover {\n",
       "  overflow: visible;\n",
       "  width: auto;\n",
       "  z-index: 1;\n",
       "}\n",
       "\n",
       ".xr-var-attrs,\n",
       ".xr-var-data,\n",
       ".xr-index-data {\n",
       "  display: none;\n",
       "  background-color: var(--xr-background-color) !important;\n",
       "  padding-bottom: 5px !important;\n",
       "}\n",
       "\n",
       ".xr-var-attrs-in:checked ~ .xr-var-attrs,\n",
       ".xr-var-data-in:checked ~ .xr-var-data,\n",
       ".xr-index-data-in:checked ~ .xr-index-data {\n",
       "  display: block;\n",
       "}\n",
       "\n",
       ".xr-var-data > table {\n",
       "  float: right;\n",
       "}\n",
       "\n",
       ".xr-var-name span,\n",
       ".xr-var-data,\n",
       ".xr-index-name div,\n",
       ".xr-index-data,\n",
       ".xr-attrs {\n",
       "  padding-left: 25px !important;\n",
       "}\n",
       "\n",
       ".xr-attrs,\n",
       ".xr-var-attrs,\n",
       ".xr-var-data,\n",
       ".xr-index-data {\n",
       "  grid-column: 1 / -1;\n",
       "}\n",
       "\n",
       "dl.xr-attrs {\n",
       "  padding: 0;\n",
       "  margin: 0;\n",
       "  display: grid;\n",
       "  grid-template-columns: 125px auto;\n",
       "}\n",
       "\n",
       ".xr-attrs dt,\n",
       ".xr-attrs dd {\n",
       "  padding: 0;\n",
       "  margin: 0;\n",
       "  float: left;\n",
       "  padding-right: 10px;\n",
       "  width: auto;\n",
       "}\n",
       "\n",
       ".xr-attrs dt {\n",
       "  font-weight: normal;\n",
       "  grid-column: 1;\n",
       "}\n",
       "\n",
       ".xr-attrs dt:hover span {\n",
       "  display: inline-block;\n",
       "  background: var(--xr-background-color);\n",
       "  padding-right: 10px;\n",
       "}\n",
       "\n",
       ".xr-attrs dd {\n",
       "  grid-column: 2;\n",
       "  white-space: pre-wrap;\n",
       "  word-break: break-all;\n",
       "}\n",
       "\n",
       ".xr-icon-database,\n",
       ".xr-icon-file-text2,\n",
       ".xr-no-icon {\n",
       "  display: inline-block;\n",
       "  vertical-align: middle;\n",
       "  width: 1em;\n",
       "  height: 1.5em !important;\n",
       "  stroke-width: 0;\n",
       "  stroke: currentColor;\n",
       "  fill: currentColor;\n",
       "}\n",
       "</style><pre class='xr-text-repr-fallback'>&lt;xarray.DataArray &#x27;field&#x27; (t: 290, x: 20, y: 10, z: 4, vdims: 3)&gt;\n",
       "array([[[[[ -27584.49540021,  658579.77501927,  453334.06616874],\n",
       "          [ -27584.49540021,  658579.77501927,  453334.06616874],\n",
       "          [ -27584.49540021,  658579.77501927,  453334.06616874],\n",
       "          [ -27584.49540021,  658579.77501927,  453334.06616874]],\n",
       "\n",
       "         [[ -27584.49540021,  658579.77501927,  453334.06616874],\n",
       "          [ -27584.49540021,  658579.77501927,  453334.06616874],\n",
       "          [ -27584.49540021,  658579.77501927,  453334.06616874],\n",
       "          [ -27584.49540021,  658579.77501927,  453334.06616874]],\n",
       "\n",
       "         [[ -27584.49540021,  658579.77501927,  453334.06616874],\n",
       "          [ -27584.49540021,  658579.77501927,  453334.06616874],\n",
       "          [ -27584.49540021,  658579.77501927,  453334.06616874],\n",
       "          [ -27584.49540021,  658579.77501927,  453334.06616874]],\n",
       "\n",
       "         ...,\n",
       "\n",
       "         [[ -27584.49540021,  658579.77501927,  453334.06616874],\n",
       "          [ -27584.49540021,  658579.77501927,  453334.06616874],\n",
       "          [ -27584.49540021,  658579.77501927,  453334.06616874],\n",
       "...\n",
       "          [ 797212.875     ,  -51317.65625   ,   42639.36328125],\n",
       "          [ 797212.875     ,  -51317.65625   ,   42639.36328125],\n",
       "          [ 797212.875     ,  -51317.65625   ,   42639.36328125]],\n",
       "\n",
       "         ...,\n",
       "\n",
       "         [[ 797212.875     ,  -51317.65625   ,   42639.36328125],\n",
       "          [ 797212.875     ,  -51317.65625   ,   42639.36328125],\n",
       "          [ 797212.875     ,  -51317.65625   ,   42639.36328125],\n",
       "          [ 797212.875     ,  -51317.65625   ,   42639.36328125]],\n",
       "\n",
       "         [[ 797212.875     ,  -51317.65625   ,   42639.36328125],\n",
       "          [ 797212.875     ,  -51317.65625   ,   42639.36328125],\n",
       "          [ 797212.875     ,  -51317.65625   ,   42639.36328125],\n",
       "          [ 797212.875     ,  -51317.65625   ,   42639.36328125]],\n",
       "\n",
       "         [[ 797212.875     ,  -51317.65625   ,   42639.36328125],\n",
       "          [ 797212.875     ,  -51317.65625   ,   42639.36328125],\n",
       "          [ 797212.875     ,  -51317.65625   ,   42639.36328125],\n",
       "          [ 797212.875     ,  -51317.65625   ,   42639.36328125]]]]])\n",
       "Coordinates:\n",
       "  * x        (x) float64 -4.75e-08 -4.25e-08 -3.75e-08 ... 4.25e-08 4.75e-08\n",
       "  * y        (y) float64 -2.25e-08 -1.75e-08 -1.25e-08 ... 1.75e-08 2.25e-08\n",
       "  * z        (z) float64 2.5e-09 7.5e-09 1.25e-08 1.75e-08\n",
       "  * vdims    (vdims) &lt;U1 &#x27;x&#x27; &#x27;y&#x27; &#x27;z&#x27;\n",
       "  * t        (t) float64 1e-12 2e-12 3e-12 ... 5.423e-10 5.445e-10 5.466e-10\n",
       "Attributes:\n",
       "    drive_numbers:  [0, 1, 2]\n",
       "    driver:         TimeDriver</pre><div class='xr-wrap' style='display:none'><div class='xr-header'><div class='xr-obj-type'>xarray.DataArray</div><div class='xr-array-name'>'field'</div><ul class='xr-dim-list'><li><span class='xr-has-index'>t</span>: 290</li><li><span class='xr-has-index'>x</span>: 20</li><li><span class='xr-has-index'>y</span>: 10</li><li><span class='xr-has-index'>z</span>: 4</li><li><span class='xr-has-index'>vdims</span>: 3</li></ul></div><ul class='xr-sections'><li class='xr-section-item'><div class='xr-array-wrap'><input id='section-33a266bd-508c-4820-b22d-29a7acd89694' class='xr-array-in' type='checkbox' checked><label for='section-33a266bd-508c-4820-b22d-29a7acd89694' title='Show/hide data repr'><svg class='icon xr-icon-database'><use xlink:href='#icon-database'></use></svg></label><div class='xr-array-preview xr-preview'><span>-2.758e+04 6.586e+05 4.533e+05 ... 7.972e+05 -5.132e+04 4.264e+04</span></div><div class='xr-array-data'><pre>array([[[[[ -27584.49540021,  658579.77501927,  453334.06616874],\n",
       "          [ -27584.49540021,  658579.77501927,  453334.06616874],\n",
       "          [ -27584.49540021,  658579.77501927,  453334.06616874],\n",
       "          [ -27584.49540021,  658579.77501927,  453334.06616874]],\n",
       "\n",
       "         [[ -27584.49540021,  658579.77501927,  453334.06616874],\n",
       "          [ -27584.49540021,  658579.77501927,  453334.06616874],\n",
       "          [ -27584.49540021,  658579.77501927,  453334.06616874],\n",
       "          [ -27584.49540021,  658579.77501927,  453334.06616874]],\n",
       "\n",
       "         [[ -27584.49540021,  658579.77501927,  453334.06616874],\n",
       "          [ -27584.49540021,  658579.77501927,  453334.06616874],\n",
       "          [ -27584.49540021,  658579.77501927,  453334.06616874],\n",
       "          [ -27584.49540021,  658579.77501927,  453334.06616874]],\n",
       "\n",
       "         ...,\n",
       "\n",
       "         [[ -27584.49540021,  658579.77501927,  453334.06616874],\n",
       "          [ -27584.49540021,  658579.77501927,  453334.06616874],\n",
       "          [ -27584.49540021,  658579.77501927,  453334.06616874],\n",
       "...\n",
       "          [ 797212.875     ,  -51317.65625   ,   42639.36328125],\n",
       "          [ 797212.875     ,  -51317.65625   ,   42639.36328125],\n",
       "          [ 797212.875     ,  -51317.65625   ,   42639.36328125]],\n",
       "\n",
       "         ...,\n",
       "\n",
       "         [[ 797212.875     ,  -51317.65625   ,   42639.36328125],\n",
       "          [ 797212.875     ,  -51317.65625   ,   42639.36328125],\n",
       "          [ 797212.875     ,  -51317.65625   ,   42639.36328125],\n",
       "          [ 797212.875     ,  -51317.65625   ,   42639.36328125]],\n",
       "\n",
       "         [[ 797212.875     ,  -51317.65625   ,   42639.36328125],\n",
       "          [ 797212.875     ,  -51317.65625   ,   42639.36328125],\n",
       "          [ 797212.875     ,  -51317.65625   ,   42639.36328125],\n",
       "          [ 797212.875     ,  -51317.65625   ,   42639.36328125]],\n",
       "\n",
       "         [[ 797212.875     ,  -51317.65625   ,   42639.36328125],\n",
       "          [ 797212.875     ,  -51317.65625   ,   42639.36328125],\n",
       "          [ 797212.875     ,  -51317.65625   ,   42639.36328125],\n",
       "          [ 797212.875     ,  -51317.65625   ,   42639.36328125]]]]])</pre></div></div></li><li class='xr-section-item'><input id='section-7a162e8e-9236-4eb5-ab28-db18665a2e26' class='xr-section-summary-in' type='checkbox'  checked><label for='section-7a162e8e-9236-4eb5-ab28-db18665a2e26' class='xr-section-summary' >Coordinates: <span>(5)</span></label><div class='xr-section-inline-details'></div><div class='xr-section-details'><ul class='xr-var-list'><li class='xr-var-item'><div class='xr-var-name'><span class='xr-has-index'>x</span></div><div class='xr-var-dims'>(x)</div><div class='xr-var-dtype'>float64</div><div class='xr-var-preview xr-preview'>-4.75e-08 -4.25e-08 ... 4.75e-08</div><input id='attrs-0e6707cd-bdad-42e7-b44f-ffd3f5b9087a' class='xr-var-attrs-in' type='checkbox' ><label for='attrs-0e6707cd-bdad-42e7-b44f-ffd3f5b9087a' title='Show/Hide attributes'><svg class='icon xr-icon-file-text2'><use xlink:href='#icon-file-text2'></use></svg></label><input id='data-121fd2e9-b83e-4bf1-ae18-b09555e15b00' class='xr-var-data-in' type='checkbox'><label for='data-121fd2e9-b83e-4bf1-ae18-b09555e15b00' title='Show/Hide data repr'><svg class='icon xr-icon-database'><use xlink:href='#icon-database'></use></svg></label><div class='xr-var-attrs'><dl class='xr-attrs'><dt><span>units :</span></dt><dd>m</dd></dl></div><div class='xr-var-data'><pre>array([-4.75e-08, -4.25e-08, -3.75e-08, -3.25e-08, -2.75e-08, -2.25e-08,\n",
       "       -1.75e-08, -1.25e-08, -7.50e-09, -2.50e-09,  2.50e-09,  7.50e-09,\n",
       "        1.25e-08,  1.75e-08,  2.25e-08,  2.75e-08,  3.25e-08,  3.75e-08,\n",
       "        4.25e-08,  4.75e-08])</pre></div></li><li class='xr-var-item'><div class='xr-var-name'><span class='xr-has-index'>y</span></div><div class='xr-var-dims'>(y)</div><div class='xr-var-dtype'>float64</div><div class='xr-var-preview xr-preview'>-2.25e-08 -1.75e-08 ... 2.25e-08</div><input id='attrs-96ef3274-0831-4738-a313-96aba4308513' class='xr-var-attrs-in' type='checkbox' ><label for='attrs-96ef3274-0831-4738-a313-96aba4308513' title='Show/Hide attributes'><svg class='icon xr-icon-file-text2'><use xlink:href='#icon-file-text2'></use></svg></label><input id='data-08592477-0ab9-4f93-aada-0f47f2dcde8c' class='xr-var-data-in' type='checkbox'><label for='data-08592477-0ab9-4f93-aada-0f47f2dcde8c' title='Show/Hide data repr'><svg class='icon xr-icon-database'><use xlink:href='#icon-database'></use></svg></label><div class='xr-var-attrs'><dl class='xr-attrs'><dt><span>units :</span></dt><dd>m</dd></dl></div><div class='xr-var-data'><pre>array([-2.25e-08, -1.75e-08, -1.25e-08, -7.50e-09, -2.50e-09,  2.50e-09,\n",
       "        7.50e-09,  1.25e-08,  1.75e-08,  2.25e-08])</pre></div></li><li class='xr-var-item'><div class='xr-var-name'><span class='xr-has-index'>z</span></div><div class='xr-var-dims'>(z)</div><div class='xr-var-dtype'>float64</div><div class='xr-var-preview xr-preview'>2.5e-09 7.5e-09 1.25e-08 1.75e-08</div><input id='attrs-fa9686a8-3558-4f1d-bf82-4faeaa25aa21' class='xr-var-attrs-in' type='checkbox' ><label for='attrs-fa9686a8-3558-4f1d-bf82-4faeaa25aa21' title='Show/Hide attributes'><svg class='icon xr-icon-file-text2'><use xlink:href='#icon-file-text2'></use></svg></label><input id='data-e2f899c6-d7a2-4e0b-913c-774a41b96147' class='xr-var-data-in' type='checkbox'><label for='data-e2f899c6-d7a2-4e0b-913c-774a41b96147' title='Show/Hide data repr'><svg class='icon xr-icon-database'><use xlink:href='#icon-database'></use></svg></label><div class='xr-var-attrs'><dl class='xr-attrs'><dt><span>units :</span></dt><dd>m</dd></dl></div><div class='xr-var-data'><pre>array([2.50e-09, 7.50e-09, 1.25e-08, 1.75e-08])</pre></div></li><li class='xr-var-item'><div class='xr-var-name'><span class='xr-has-index'>vdims</span></div><div class='xr-var-dims'>(vdims)</div><div class='xr-var-dtype'>&lt;U1</div><div class='xr-var-preview xr-preview'>&#x27;x&#x27; &#x27;y&#x27; &#x27;z&#x27;</div><input id='attrs-caab56e9-8f2f-4084-b000-527dc6609d28' class='xr-var-attrs-in' type='checkbox' disabled><label for='attrs-caab56e9-8f2f-4084-b000-527dc6609d28' title='Show/Hide attributes'><svg class='icon xr-icon-file-text2'><use xlink:href='#icon-file-text2'></use></svg></label><input id='data-3cb7ba10-7639-4362-b75c-e4cefb25d8b8' class='xr-var-data-in' type='checkbox'><label for='data-3cb7ba10-7639-4362-b75c-e4cefb25d8b8' title='Show/Hide data repr'><svg class='icon xr-icon-database'><use xlink:href='#icon-database'></use></svg></label><div class='xr-var-attrs'><dl class='xr-attrs'></dl></div><div class='xr-var-data'><pre>array([&#x27;x&#x27;, &#x27;y&#x27;, &#x27;z&#x27;], dtype=&#x27;&lt;U1&#x27;)</pre></div></li><li class='xr-var-item'><div class='xr-var-name'><span class='xr-has-index'>t</span></div><div class='xr-var-dims'>(t)</div><div class='xr-var-dtype'>float64</div><div class='xr-var-preview xr-preview'>1e-12 2e-12 ... 5.445e-10 5.466e-10</div><input id='attrs-5c7f8c48-0437-4e13-a816-31810a2e7bec' class='xr-var-attrs-in' type='checkbox' ><label for='attrs-5c7f8c48-0437-4e13-a816-31810a2e7bec' title='Show/Hide attributes'><svg class='icon xr-icon-file-text2'><use xlink:href='#icon-file-text2'></use></svg></label><input id='data-a1871c2a-7e85-47cf-8624-01cd98067907' class='xr-var-data-in' type='checkbox'><label for='data-a1871c2a-7e85-47cf-8624-01cd98067907' title='Show/Hide data repr'><svg class='icon xr-icon-database'><use xlink:href='#icon-database'></use></svg></label><div class='xr-var-attrs'><dl class='xr-attrs'><dt><span>units :</span></dt><dd>s</dd></dl></div><div class='xr-var-data'><pre>array([1.000000e-12, 2.000000e-12, 3.000000e-12, ..., 5.423237e-10,\n",
       "       5.444648e-10, 5.466095e-10])</pre></div></li></ul></div></li><li class='xr-section-item'><input id='section-f82f3fa5-e612-421b-9b86-aa31de7ca7e5' class='xr-section-summary-in' type='checkbox'  ><label for='section-f82f3fa5-e612-421b-9b86-aa31de7ca7e5' class='xr-section-summary' >Indexes: <span>(5)</span></label><div class='xr-section-inline-details'></div><div class='xr-section-details'><ul class='xr-var-list'><li class='xr-var-item'><div class='xr-index-name'><div>x</div></div><div class='xr-index-preview'>PandasIndex</div><div></div><input id='index-eed73286-68ec-4370-a396-085d4ad59fa7' class='xr-index-data-in' type='checkbox'/><label for='index-eed73286-68ec-4370-a396-085d4ad59fa7' title='Show/Hide index repr'><svg class='icon xr-icon-database'><use xlink:href='#icon-database'></use></svg></label><div class='xr-index-data'><pre>PandasIndex(Index([-4.7499999999999995e-08,               -4.25e-08,\n",
       "                     -3.75e-08,  -3.249999999999999e-08,\n",
       "       -2.7499999999999998e-08,               -2.25e-08,\n",
       "       -1.7499999999999998e-08,               -1.25e-08,\n",
       "        -7.500000000000001e-09, -2.5000000000000025e-09,\n",
       "         2.499999999999996e-09,   7.499999999999994e-09,\n",
       "                      1.25e-08,   1.749999999999999e-08,\n",
       "        2.2499999999999996e-08,  2.7499999999999988e-08,\n",
       "         3.249999999999999e-08,                3.75e-08,\n",
       "         4.249999999999999e-08,  4.7499999999999995e-08],\n",
       "      dtype=&#x27;float64&#x27;, name=&#x27;x&#x27;))</pre></div></li><li class='xr-var-item'><div class='xr-index-name'><div>y</div></div><div class='xr-index-preview'>PandasIndex</div><div></div><input id='index-71962254-80b1-4be1-baf7-ab469a52fd27' class='xr-index-data-in' type='checkbox'/><label for='index-71962254-80b1-4be1-baf7-ab469a52fd27' title='Show/Hide index repr'><svg class='icon xr-icon-database'><use xlink:href='#icon-database'></use></svg></label><div class='xr-index-data'><pre>PandasIndex(Index([              -2.25e-08, -1.7499999999999998e-08,\n",
       "                     -1.25e-08,  -7.499999999999998e-09,\n",
       "       -2.4999999999999992e-09,  2.4999999999999992e-09,\n",
       "         7.500000000000004e-09,  1.2500000000000003e-08,\n",
       "                      1.75e-08,                2.25e-08],\n",
       "      dtype=&#x27;float64&#x27;, name=&#x27;y&#x27;))</pre></div></li><li class='xr-var-item'><div class='xr-index-name'><div>z</div></div><div class='xr-index-preview'>PandasIndex</div><div></div><input id='index-a5d30728-0bbe-46a1-85f7-8dd468d56917' class='xr-index-data-in' type='checkbox'/><label for='index-a5d30728-0bbe-46a1-85f7-8dd468d56917' title='Show/Hide index repr'><svg class='icon xr-icon-database'><use xlink:href='#icon-database'></use></svg></label><div class='xr-index-data'><pre>PandasIndex(Index([2.5e-09, 7.500000000000001e-09, 1.2500000000000003e-08, 1.75e-08], dtype=&#x27;float64&#x27;, name=&#x27;z&#x27;))</pre></div></li><li class='xr-var-item'><div class='xr-index-name'><div>vdims</div></div><div class='xr-index-preview'>PandasIndex</div><div></div><input id='index-fe868c5b-16ee-4edb-a18a-64a2e202c1ae' class='xr-index-data-in' type='checkbox'/><label for='index-fe868c5b-16ee-4edb-a18a-64a2e202c1ae' title='Show/Hide index repr'><svg class='icon xr-icon-database'><use xlink:href='#icon-database'></use></svg></label><div class='xr-index-data'><pre>PandasIndex(Index([&#x27;x&#x27;, &#x27;y&#x27;, &#x27;z&#x27;], dtype=&#x27;object&#x27;, name=&#x27;vdims&#x27;))</pre></div></li><li class='xr-var-item'><div class='xr-index-name'><div>t</div></div><div class='xr-index-preview'>PandasIndex</div><div></div><input id='index-3706c391-dbe9-4d6e-88d0-161c51c73b98' class='xr-index-data-in' type='checkbox'/><label for='index-3706c391-dbe9-4d6e-88d0-161c51c73b98' title='Show/Hide index repr'><svg class='icon xr-icon-database'><use xlink:href='#icon-database'></use></svg></label><div class='xr-index-data'><pre>PandasIndex(Index([                1e-12,                 2e-12,                 3e-12,\n",
       "                       4e-12,                 5e-12,                 6e-12,\n",
       "                       7e-12,                 8e-12,                 9e-12,\n",
       "                       1e-11,\n",
       "       ...\n",
       "       5.274341343923693e-10, 5.295508787856869e-10, 5.316709274718813e-10,\n",
       "       5.337945031788918e-10,  5.35921453911558e-10, 5.380518487416173e-10,\n",
       "        5.40186032847568e-10, 5.423237090369723e-10, 5.444647973734903e-10,\n",
       "       5.466094681270549e-10],\n",
       "      dtype=&#x27;float64&#x27;, name=&#x27;t&#x27;, length=290))</pre></div></li></ul></div></li><li class='xr-section-item'><input id='section-da750bdc-e2d5-4978-ace5-bca7ea6155ea' class='xr-section-summary-in' type='checkbox'  checked><label for='section-da750bdc-e2d5-4978-ace5-bca7ea6155ea' class='xr-section-summary' >Attributes: <span>(2)</span></label><div class='xr-section-inline-details'></div><div class='xr-section-details'><dl class='xr-attrs'><dt><span>drive_numbers :</span></dt><dd>[0, 1, 2]</dd><dt><span>driver :</span></dt><dd>TimeDriver</dd></dl></div></li></ul></div></div>"
      ],
      "text/plain": [
       "<xarray.DataArray 'field' (t: 290, x: 20, y: 10, z: 4, vdims: 3)>\n",
       "array([[[[[ -27584.49540021,  658579.77501927,  453334.06616874],\n",
       "          [ -27584.49540021,  658579.77501927,  453334.06616874],\n",
       "          [ -27584.49540021,  658579.77501927,  453334.06616874],\n",
       "          [ -27584.49540021,  658579.77501927,  453334.06616874]],\n",
       "\n",
       "         [[ -27584.49540021,  658579.77501927,  453334.06616874],\n",
       "          [ -27584.49540021,  658579.77501927,  453334.06616874],\n",
       "          [ -27584.49540021,  658579.77501927,  453334.06616874],\n",
       "          [ -27584.49540021,  658579.77501927,  453334.06616874]],\n",
       "\n",
       "         [[ -27584.49540021,  658579.77501927,  453334.06616874],\n",
       "          [ -27584.49540021,  658579.77501927,  453334.06616874],\n",
       "          [ -27584.49540021,  658579.77501927,  453334.06616874],\n",
       "          [ -27584.49540021,  658579.77501927,  453334.06616874]],\n",
       "\n",
       "         ...,\n",
       "\n",
       "         [[ -27584.49540021,  658579.77501927,  453334.06616874],\n",
       "          [ -27584.49540021,  658579.77501927,  453334.06616874],\n",
       "          [ -27584.49540021,  658579.77501927,  453334.06616874],\n",
       "...\n",
       "          [ 797212.875     ,  -51317.65625   ,   42639.36328125],\n",
       "          [ 797212.875     ,  -51317.65625   ,   42639.36328125],\n",
       "          [ 797212.875     ,  -51317.65625   ,   42639.36328125]],\n",
       "\n",
       "         ...,\n",
       "\n",
       "         [[ 797212.875     ,  -51317.65625   ,   42639.36328125],\n",
       "          [ 797212.875     ,  -51317.65625   ,   42639.36328125],\n",
       "          [ 797212.875     ,  -51317.65625   ,   42639.36328125],\n",
       "          [ 797212.875     ,  -51317.65625   ,   42639.36328125]],\n",
       "\n",
       "         [[ 797212.875     ,  -51317.65625   ,   42639.36328125],\n",
       "          [ 797212.875     ,  -51317.65625   ,   42639.36328125],\n",
       "          [ 797212.875     ,  -51317.65625   ,   42639.36328125],\n",
       "          [ 797212.875     ,  -51317.65625   ,   42639.36328125]],\n",
       "\n",
       "         [[ 797212.875     ,  -51317.65625   ,   42639.36328125],\n",
       "          [ 797212.875     ,  -51317.65625   ,   42639.36328125],\n",
       "          [ 797212.875     ,  -51317.65625   ,   42639.36328125],\n",
       "          [ 797212.875     ,  -51317.65625   ,   42639.36328125]]]]])\n",
       "Coordinates:\n",
       "  * x        (x) float64 -4.75e-08 -4.25e-08 -3.75e-08 ... 4.25e-08 4.75e-08\n",
       "  * y        (y) float64 -2.25e-08 -1.75e-08 -1.25e-08 ... 1.75e-08 2.25e-08\n",
       "  * z        (z) float64 2.5e-09 7.5e-09 1.25e-08 1.75e-08\n",
       "  * vdims    (vdims) <U1 'x' 'y' 'z'\n",
       "  * t        (t) float64 1e-12 2e-12 3e-12 ... 5.423e-10 5.445e-10 5.466e-10\n",
       "Attributes:\n",
       "    drive_numbers:  [0, 1, 2]\n",
       "    driver:         TimeDriver"
      ]
     },
     "execution_count": 30,
     "metadata": {},
     "output_type": "execute_result"
    }
   ],
   "source": [
    "combined.to_xarray()"
   ]
  },
  {
   "cell_type": "markdown",
   "metadata": {},
   "source": [
    "We can also append an other drive to a combined drive."
   ]
  },
  {
   "cell_type": "code",
   "execution_count": 31,
   "metadata": {
    "tags": [
     "nbval-ignore-output"
    ]
   },
   "outputs": [
    {
     "data": {
      "text/plain": [
       "CombinedDrive(\n",
       "  OOMMFDrive(name='rectangle', number=0, dirname='../micromagneticdata/tests/test_sample', x='t'),\n",
       "  Mumax3Drive(name='rectangle', number=1, dirname='../micromagneticdata/tests/test_sample', x='t'),\n",
       "  Mumax3Drive(name='rectangle', number=2, dirname='../micromagneticdata/tests/test_sample', x='t'),\n",
       "  OOMMFDrive(name='rectangle', number=0, dirname='../micromagneticdata/tests/test_sample', x='t')\n",
       ")"
      ]
     },
     "execution_count": 31,
     "metadata": {},
     "output_type": "execute_result"
    }
   ],
   "source": [
    "combined << data[0]"
   ]
  },
  {
   "cell_type": "markdown",
   "metadata": {},
   "source": [
    "## Widgets"
   ]
  },
  {
   "cell_type": "code",
   "execution_count": 32,
   "metadata": {},
   "outputs": [
    {
     "data": {
      "application/vnd.jupyter.widget-view+json": {
       "model_id": "b566029522734a4d905b94eb8eafbe91",
       "version_major": 2,
       "version_minor": 0
      },
      "text/plain": [
       "BoundedIntText(value=0, description='drive', max=6)"
      ]
     },
     "execution_count": 32,
     "metadata": {},
     "output_type": "execute_result"
    }
   ],
   "source": [
    "data.selector()"
   ]
  },
  {
   "cell_type": "code",
   "execution_count": 33,
   "metadata": {
    "editable": true,
    "slideshow": {
     "slide_type": ""
    },
    "tags": []
   },
   "outputs": [
    {
     "data": {
      "application/vnd.jupyter.widget-view+json": {
       "model_id": "40bf77af6e87492a869a5ff9f8499f36",
       "version_major": 2,
       "version_minor": 0
      },
      "text/plain": [
       "IntSlider(value=0, description='step', max=13)"
      ]
     },
     "execution_count": 33,
     "metadata": {},
     "output_type": "execute_result"
    }
   ],
   "source": [
    "drive.slider()"
   ]
  }
 ],
 "metadata": {
  "kernelspec": {
   "display_name": "Python 3 (ipykernel)",
   "language": "python",
   "name": "python3"
  },
  "language_info": {
   "codemirror_mode": {
    "name": "ipython",
    "version": 3
   },
   "file_extension": ".py",
   "mimetype": "text/x-python",
   "name": "python",
   "nbconvert_exporter": "python",
   "pygments_lexer": "ipython3",
   "version": "3.10.12"
  },
  "widgets": {
   "application/vnd.jupyter.widget-state+json": {
    "state": {
     "08717bfc20a748fcb19df275fa42373d": {
      "model_module": "@jupyter-widgets/controls",
      "model_module_version": "1.5.0",
      "model_name": "DescriptionStyleModel",
      "state": {
       "description_width": ""
      }
     },
     "6ffe1a39f4cf4809bd0fda7f05ed493d": {
      "model_module": "@jupyter-widgets/base",
      "model_module_version": "1.2.0",
      "model_name": "LayoutModel",
      "state": {}
     },
     "8eb3898b4f8344c287e1a0b7e22df8df": {
      "model_module": "@jupyter-widgets/controls",
      "model_module_version": "1.5.0",
      "model_name": "BoundedIntTextModel",
      "state": {
       "description": "drive",
       "layout": "IPY_MODEL_6ffe1a39f4cf4809bd0fda7f05ed493d",
       "max": 6,
       "style": "IPY_MODEL_08717bfc20a748fcb19df275fa42373d"
      }
     },
     "9abaaa5f73604b22a2fa931fb9e7312f": {
      "model_module": "@jupyter-widgets/controls",
      "model_module_version": "1.5.0",
      "model_name": "IntSliderModel",
      "state": {
       "description": "step",
       "layout": "IPY_MODEL_d896d3721ffb4ae0b3e014122d407ba9",
       "max": 40,
       "style": "IPY_MODEL_f0d1fceee33549728b7b9b254a03d9e3"
      }
     },
     "d896d3721ffb4ae0b3e014122d407ba9": {
      "model_module": "@jupyter-widgets/base",
      "model_module_version": "1.2.0",
      "model_name": "LayoutModel",
      "state": {}
     },
     "f0d1fceee33549728b7b9b254a03d9e3": {
      "model_module": "@jupyter-widgets/controls",
      "model_module_version": "1.5.0",
      "model_name": "SliderStyleModel",
      "state": {
       "description_width": ""
      }
     }
    },
    "version_major": 2,
    "version_minor": 0
   }
  }
 },
 "nbformat": 4,
 "nbformat_minor": 4
}
